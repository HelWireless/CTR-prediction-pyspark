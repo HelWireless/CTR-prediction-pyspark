{
 "cells": [
  {
   "cell_type": "markdown",
   "metadata": {},
   "source": [
    "## Question Formulation"
   ]
  },
  {
   "cell_type": "markdown",
   "metadata": {},
   "source": [
    "In this final project we seek to perform Click Through Rate (CTR) prediction on a large public dataset of Criteo advertising data.  This data was made available as part of a Kaggle competition several years ago.  CTR is an important and commonly used metric in Internet marketing.  It measures the number of clicks advertisers receive on their ads per number of impressions ((Total Clicks on Ad) / (Total Impressions) = Click Through Rate).  In simple terms, a  high CTR means that a high percentage of people who see an ad click on it.  Thus, ads with a high CTR can be thought of as high performing, and the companies serving these ads can charge more for them.\n",
    "\n",
    "The winner of the Criteo Kaggle competition achieved a log-loss score of 0.445.  With 718 competition entries, all entries performing above the 90th percentile achieved a log-loss score of 0.46 or less.  While reaching a score this low would be ideal, our model could still be practically useful (especially if it was applied to other datasets) with a slightly higher log-loss score, such as around 0.50.\n",
    "\n",
    "In pursuit of our ultimate goal of performing CTR prediction on a public dataset of Criteo advertising data, we will perform an exploratory data analysis (EDA), and from this EDA determine if logistic regression is an appropriate algorithm to use for CTR prediction.  This will include thoroughly testing its assumption.  If we determine it is appropriate, we will then apply logistic regression to a toy example (an artificial example) to test our general algorithm implementation.  Our target variable will be the ###CTR for a specific display ad### before applying the same algorithm to a full test and train split.  We will seek to optimize our implementation of the algorithm to achieve a log-loss score of 0.50 or lower.\n",
    "\n",
    "Some of the limitations of the dataset include the fact that many of the columns in it are categorical in nature.  To be able to use them with logistic regression, which only accepts numeri\n",
    "\n",
    "###maybe describe algorithm (logistic regression in this section more) as opposed to starting discussion in EDA).###\n",
    "\n",
    "### Discuss more the limitations of the data and/or algorithm ###\n",
    "\n",
    "LImitations: We have a bunch of categorical columns\n"
   ]
  },
  {
   "cell_type": "markdown",
   "metadata": {},
   "source": [
    "## Setup"
   ]
  },
  {
   "cell_type": "code",
   "execution_count": 3,
   "metadata": {
    "scrolled": true
   },
   "outputs": [],
   "source": [
    "# Installation of necessary packages\n",
    "\n",
    "# !pip install --upgrade pip\n",
    "# !pip install --upgrade pandas\n",
    "# !pip install --upgrade google-api-python-client\n",
    "# !pip install --upgrade seaborn\n",
    "# !pip install --upgrade networkx\n",
    "# !pip install --upgrade matplotlib\n",
    "# !pip install --upgrade pyspark\n",
    "# !pip install --upgrade pyspark_dist_explore\n"
   ]
  },
  {
   "cell_type": "code",
   "execution_count": 127,
   "metadata": {},
   "outputs": [],
   "source": [
    "# Main Imports\n",
    "\n",
    "from IPython.display import display, HTML, display_html #usefull to display wide tables\n",
    "from pyspark_dist_explore import Histogram, hist, distplot, pandas_histogram\n",
    "from pyspark.ml import Pipeline\n",
    "from pyspark.ml.classification import LogisticRegression\n",
    "from pyspark.ml.feature import OneHotEncoderEstimator, StringIndexer, VectorAssembler\n",
    "#from pyspark.mllib.linalg import VectorUDT\n",
    "from pyspark.ml.linalg import VectorUDT\n",
    "from pyspark.ml.linalg import SparseVector\n",
    "from pyspark.sql import functions as F, types\n",
    "from pyspark.sql.functions import (explode, col)\n",
    "from pyspark.sql.functions import col, row_number, concat, lit\n",
    "from pyspark.sql.functions import trim\n",
    "from pyspark.sql.functions import udf\n",
    "from pyspark.sql.functions import split\n",
    "from pyspark.sql.types import ArrayType, StructType, StructField, LongType, StringType\n",
    "from pyspark.sql.types import Row\n",
    "from pyspark.sql.window import Window\n",
    "from pyspark.ml.linalg import Vectors\n",
    "from pyspark.mllib.stat import Statistics\n",
    "from pyspark.ml.stat import Correlation\n",
    "from pyspark.ml.feature import VectorAssembler\n",
    "\n",
    "import ast\n",
    "import datetime\n",
    "import matplotlib.pyplot as plt\n",
    "import networkx as nx\n",
    "import numpy as np\n",
    "import os\n",
    "import pandas as pd\n",
    "import pickle\n",
    "import re\n",
    "import seaborn as sns\n",
    "import time\n"
   ]
  },
  {
   "cell_type": "code",
   "execution_count": 5,
   "metadata": {},
   "outputs": [],
   "source": [
    "# To better display plot from matplotlib\n",
    "%matplotlib inline\n"
   ]
  },
  {
   "cell_type": "code",
   "execution_count": 1,
   "metadata": {},
   "outputs": [
    {
     "data": {
      "text/html": [
       "\n",
       "            <div>\n",
       "                <p><b>SparkSession - hive</b></p>\n",
       "                \n",
       "        <div>\n",
       "            <p><b>SparkContext</b></p>\n",
       "\n",
       "            <p><a href=\"http://w266finalprojectajh6-m.c.w266-203601.internal:4041\">Spark UI</a></p>\n",
       "\n",
       "            <dl>\n",
       "              <dt>Version</dt>\n",
       "                <dd><code>v2.3.1</code></dd>\n",
       "              <dt>Master</dt>\n",
       "                <dd><code>yarn</code></dd>\n",
       "              <dt>AppName</dt>\n",
       "                <dd><code>pyspark-shell</code></dd>\n",
       "            </dl>\n",
       "        </div>\n",
       "        \n",
       "            </div>\n",
       "        "
      ],
      "text/plain": [
       "<pyspark.sql.session.SparkSession at 0x7f3d50db6e10>"
      ]
     },
     "execution_count": 1,
     "metadata": {},
     "output_type": "execute_result"
    }
   ],
   "source": [
    "# Begin Spark Session - ensure that kernel is PySpark and not Python 2 or Python 3\n",
    "spark"
   ]
  },
  {
   "cell_type": "code",
   "execution_count": 6,
   "metadata": {
    "collapsed": true
   },
   "outputs": [],
   "source": [
    "# Create Spark Context\n",
    "sc = spark.sparkContext"
   ]
  },
  {
   "cell_type": "markdown",
   "metadata": {},
   "source": [
    "## EDA & Discussion of Challenges"
   ]
  },
  {
   "cell_type": "markdown",
   "metadata": {},
   "source": [
    "Before we begin modeling an alogrithm for Click Through rate prediction, we should first examine the Criteo dataset that we will be using.  To do this, we will examine the initial format and structure of the dataset, the size of the dataset, examine it for missing values and outliers, and capture several summary statistics that will inform us of the distribution of the dataset.  To aid in our analysis, we will plot several graphs that will augment our understanding of the distribution of the dataset.\n",
    "\n",
    "Furthermore, as mentioned in our question formulation, we would like to use logistic regression as the main algorithm in our Click Through Rate prediction.  However, logistic regression models have several assumptions that must be met before they can be used.\n",
    "\n",
    "The assumptions for logistic regression include:\n",
    "\n",
    "1)  The outcome is a binary or dichotomous variable (e.g. “yes” or “no”, “positive” or “negative”, 1 or 0).\n",
    "\n",
    "2)  There is a linear relationship between the logit of the outcome and each predictor variables.  The logit function is $$logit(p) = log(p/(1-p))$$ where p is the probability of the outcome.\n",
    "\n",
    "3) Independence of observations.\n",
    "\n",
    "4) There is no multicollinearity among the independent variables.\n",
    "\n",
    "5) ??? There are a large number of observations.\n",
    "\n",
    "In the EDA that follows, we will show how the Criteo dataset meets the assumptions necessary for logistic regression, thus allowing us to comfortably use it as our prediction algorithm.\n"
   ]
  },
  {
   "cell_type": "markdown",
   "metadata": {},
   "source": [
    "### The Dataset is Large and Needs to be Parsed\n",
    "\n",
    "After loading the data and performing a row count, we can observe that the Criteo dataset is quite large.  It contains 45,840,617 rows (records). ??? reiterate what these are???\n",
    "\n",
    "Additionally, we can observe that each row in the dataset is initally a single, long string with tab-delimited columns.  These will need to be parsed before any further analysis can be performed.  We wrote code that performs this task, and separates all of these columns into numerical values or strings as appropriate."
   ]
  },
  {
   "cell_type": "code",
   "execution_count": 7,
   "metadata": {},
   "outputs": [
    {
     "name": "stdout",
     "output_type": "stream",
     "text": [
      "45840617\n"
     ]
    }
   ],
   "source": [
    "rawDF = sqlContext.read.text('gs://w261_final_project_ajh_bucket/data/train.txt').withColumnRenamed(\"value\", \"text\")\n",
    "rawDF.cache()\n",
    "rawDF_count = rawDF.count()\n",
    "print(rawDF_count)"
   ]
  },
  {
   "cell_type": "code",
   "execution_count": 51,
   "metadata": {},
   "outputs": [
    {
     "name": "stdout",
     "output_type": "stream",
     "text": [
      "root\n",
      " |-- text: string (nullable = true)\n",
      "\n"
     ]
    },
    {
     "data": {
      "text/plain": [
       "Row(text='0\\t1\\t1\\t5\\t0\\t1382\\t4\\t15\\t2\\t181\\t1\\t2\\t\\t2\\t68fd1e64\\t80e26c9b\\tfb936136\\t7b4723c4\\t25c83c98\\t7e0ccccf\\tde7995b8\\t1f89b562\\ta73ee510\\ta8cd5504\\tb2cb9c98\\t37c9c164\\t2824a5f6\\t1adce6ef\\t8ba8b39a\\t891b62e7\\te5ba7672\\tf54016b9\\t21ddcdc9\\tb1252a9d\\t07b5194c\\t\\t3a171ecb\\tc5c50484\\te8b83407\\t9727dd16')"
      ]
     },
     "execution_count": 51,
     "metadata": {},
     "output_type": "execute_result"
    }
   ],
   "source": [
    "rawDF.printSchema()\n",
    "rawDF.first()"
   ]
  },
  {
   "cell_type": "code",
   "execution_count": 46,
   "metadata": {},
   "outputs": [
    {
     "data": {
      "text/plain": [
       "DataFrame[text: string]"
      ]
     },
     "execution_count": 46,
     "metadata": {},
     "output_type": "execute_result"
    }
   ],
   "source": [
    "rawDF"
   ]
  },
  {
   "cell_type": "code",
   "execution_count": 54,
   "metadata": {},
   "outputs": [],
   "source": [
    "fullWithColsDF = rawDF.withColumn('tmp', split('text', '\\t')).\\\n",
    "                    select( col(\"tmp\").getItem(0).cast(\"double\").alias(\"label\")\n",
    "                    , col(\"tmp\").getItem(1).cast(\"double\").alias(\"int_1\")\n",
    "                    , col(\"tmp\").getItem(2).cast(\"double\").alias(\"int_2\")\n",
    "                    , col(\"tmp\").getItem(3).cast(\"double\").alias(\"int_3\")\n",
    "                    , col(\"tmp\").getItem(4).cast(\"double\").alias(\"int_4\")\n",
    "                    , col(\"tmp\").getItem(5).cast(\"double\").alias(\"int_5\")\n",
    "                    , col(\"tmp\").getItem(6).cast(\"double\").alias(\"int_6\")\n",
    "                    , col(\"tmp\").getItem(7).cast(\"double\").alias(\"int_7\")\n",
    "                    , col(\"tmp\").getItem(8).cast(\"double\").alias(\"int_8\")\n",
    "                    , col(\"tmp\").getItem(9).cast(\"double\").alias(\"int_9\")\n",
    "                    , col(\"tmp\").getItem(10).cast(\"double\").alias(\"int_10\")\n",
    "                    , col(\"tmp\").getItem(11).cast(\"double\").alias(\"int_11\")\n",
    "                    , col(\"tmp\").getItem(12).cast(\"double\").alias(\"int_12\")\n",
    "                    , col(\"tmp\").getItem(13).cast(\"double\").alias(\"int_13\")\n",
    "                    , col(\"tmp\").getItem(14).alias(\"categ_1\")\n",
    "                    , col(\"tmp\").getItem(15).alias(\"categ_2\")\n",
    "                    , col(\"tmp\").getItem(16).alias(\"categ_3\")\n",
    "                    , col(\"tmp\").getItem(17).alias(\"categ_4\")\n",
    "                    , col(\"tmp\").getItem(18).alias(\"categ_5\")\n",
    "                    , col(\"tmp\").getItem(19).alias(\"categ_6\")\n",
    "                    , col(\"tmp\").getItem(20).alias(\"categ_7\")\n",
    "                    , col(\"tmp\").getItem(21).alias(\"categ_8\")\n",
    "                    , col(\"tmp\").getItem(22).alias(\"categ_9\")\n",
    "                    , col(\"tmp\").getItem(23).alias(\"categ_10\")\n",
    "                    , col(\"tmp\").getItem(24).alias(\"categ_11\")\n",
    "                    , col(\"tmp\").getItem(25).alias(\"categ_12\")\n",
    "                    , col(\"tmp\").getItem(26).alias(\"categ_13\")\n",
    "                    , col(\"tmp\").getItem(27).alias(\"categ_14\")\n",
    "                    , col(\"tmp\").getItem(28).alias(\"categ_15\")\n",
    "                    , col(\"tmp\").getItem(29).alias(\"categ_16\")\n",
    "                    , col(\"tmp\").getItem(30).alias(\"categ_17\")\n",
    "                    , col(\"tmp\").getItem(31).alias(\"categ_18\")\n",
    "                    , col(\"tmp\").getItem(32).alias(\"categ_19\")\n",
    "                    , col(\"tmp\").getItem(33).alias(\"categ_20\")\n",
    "                    , col(\"tmp\").getItem(34).alias(\"categ_21\")\n",
    "                    , col(\"tmp\").getItem(35).alias(\"categ_22\")\n",
    "                    , col(\"tmp\").getItem(36).alias(\"categ_23\")\n",
    "                    , col(\"tmp\").getItem(37).alias(\"categ_24\")\n",
    "                    , col(\"tmp\").getItem(38).alias(\"categ_25\")\n",
    "                    , col(\"tmp\").getItem(39).alias(\"categ_26\")\n",
    "                    ).cache()"
   ]
  },
  {
   "cell_type": "markdown",
   "metadata": {},
   "source": [
    "## 13 Numerical Columns, 26 Categorical Columns\n",
    "\n",
    "After parsing our data and separating the columns, we can see that there are 13 numerical columns and 26 categorical columns.  The numerical columns appear to be all integer values, while the categorical columns appear to be hash values."
   ]
  },
  {
   "cell_type": "code",
   "execution_count": 128,
   "metadata": {},
   "outputs": [
    {
     "data": {
      "text/plain": [
       "Row(label=0.0, int_1=1.0, int_2=1.0, int_3=5.0, int_4=0.0, int_5=1382.0, int_6=4.0, int_7=15.0, int_8=2.0, int_9=181.0, int_10=1.0, int_11=2.0, int_12=None, int_13=2.0, categ_1='68fd1e64', categ_2='80e26c9b', categ_3='fb936136', categ_4='7b4723c4', categ_5='25c83c98', categ_6='7e0ccccf', categ_7='de7995b8', categ_8='1f89b562', categ_9='a73ee510', categ_10='a8cd5504', categ_11='b2cb9c98', categ_12='37c9c164', categ_13='2824a5f6', categ_14='1adce6ef', categ_15='8ba8b39a', categ_16='891b62e7', categ_17='e5ba7672', categ_18='f54016b9', categ_19='21ddcdc9', categ_20='b1252a9d', categ_21='07b5194c', categ_22='', categ_23='3a171ecb', categ_24='c5c50484', categ_25='e8b83407', categ_26='9727dd16')"
      ]
     },
     "execution_count": 128,
     "metadata": {},
     "output_type": "execute_result"
    }
   ],
   "source": [
    "fullWithColsDF.first()\n"
   ]
  },
  {
   "cell_type": "markdown",
   "metadata": {},
   "source": [
    "### Methods for Calculating Statistics\n",
    "\n",
    "Below are several methods that we use to calculate summary statistics, and perform any necessary transformations.  They include:\n",
    "\n",
    "1) f_calc_stats, which calculates mean, minimum value, maximum value, standard deviation, variance, skewness of a column in a dataframe.\n",
    "2) f_check_null, which calculates count of null or NaN or empty for a column.\n",
    "3) f_display_stats_categ, which calculates count of unique values and empty strings for a column.\n",
    "4) f_display_stats_int, which calls other functions to get mean, minimum value, maximum value, standard deviation, variance, skewness, and number of nulls/NaN/empty values of a column in a dataframe.\n",
    "5) f_display_corr, which calculates the correlation and covariance of a variable against the label.\n",
    "6) f_covert_to_df, which converts an RDD to dataframe.\n",
    "7) f_cast_str_to_int, which converts integer columns formatted as strings to integers.\n",
    "8) f_remove_empty_string, which removes rows where at least one column has empty string."
   ]
  },
  {
   "cell_type": "code",
   "execution_count": 72,
   "metadata": {},
   "outputs": [],
   "source": [
    "def f_calc_stats(data, column):\n",
    "    \"\"\"\n",
    "    Calculates mean, minimum value, maximum value, standard deviation, variance, skewness of a column in a dataframe.\n",
    "    Returns a list containing mean, minimum value, maximum value, standard deviation, variance, skewness\n",
    "    Arguments:\n",
    "        data         - dataframe on which we are calculating statistics.\n",
    "        column       - column for which statistics have to be calculated\n",
    "    Returns:\n",
    "        A list containing the mean, minimum value, maximum value, standard deviation, variance, skewness of the column.\n",
    "    \"\"\"\n",
    "    \n",
    "    return data.agg(F.avg(data[column]), F.min(data[column]), F.max(data[column]),\n",
    "                    F.stddev_pop(data[column]),F.var_pop(data[column]),F.skewness(data[column])\n",
    "                   ).collect()"
   ]
  },
  {
   "cell_type": "code",
   "execution_count": 73,
   "metadata": {},
   "outputs": [],
   "source": [
    "def f_check_null(data, column):\n",
    "    \"\"\"\n",
    "    Calculates count of null or NaN or empty for a column.\n",
    "    Returns an integer for the count  of null or NaN or empty for a column.\n",
    "    Arguments:\n",
    "        data         - dataframe on which we are calculating the metric.\n",
    "        column       - column for which the metric has to be calculated.\n",
    "    Returns:\n",
    "        An integer for the count where the column is null or NaN or empty.\n",
    "    \"\"\"\n",
    "    return data.filter( (data[column] ==\"\") |F.isnull(data[column])|F.isnan(data[column])\n",
    "                      ).count()"
   ]
  },
  {
   "cell_type": "code",
   "execution_count": 74,
   "metadata": {},
   "outputs": [],
   "source": [
    "# Checking cardinality\n",
    "def f_display_stats_categ(df, inColList):\n",
    "    \"\"\"\n",
    "    Calculates count of unique values and empty strings for a column.\n",
    "    Displays the output as a HTML table.\n",
    "    Arguments:\n",
    "        df         - dataframe on which we are calculating the metric.\n",
    "        inColList  - list of column names for which we are calculating the metrics.\n",
    "    Returns:\n",
    "        Displays the output as a HTML table.\n",
    "    \"\"\"\n",
    "    dict1={}\n",
    "    for col in inColList:\n",
    "        cardinal_cnt = df.select([col]).distinct().count()\n",
    "        dict1[col]={\"Count_Unique_Vals\":cardinal_cnt}\n",
    "        dict1[col]['Count_Empty_String'] = str(df.filter(df[col] == \"\").count())\n",
    "\n",
    "    display(HTML(pd.DataFrame(dict1).T.to_html( )))"
   ]
  },
  {
   "cell_type": "code",
   "execution_count": 75,
   "metadata": {},
   "outputs": [],
   "source": [
    "def f_display_stats_int(data):\n",
    "    \"\"\"\n",
    "    Calls other functions to get mean, minimum value, maximum value, standard deviation, variance, skewness, number of nulls/NaN/empty values of a column in a dataframe..\n",
    "    Displays the output as a HTML table.\n",
    "    Arguments:\n",
    "        df         - dataframe on which we are calculating the metric.\n",
    "        inColList  - list of column names for which we are calculating the metrics.\n",
    "    Returns:\n",
    "        Displays the output as a HTML table.\n",
    "    \"\"\"\n",
    "    dict1={}\n",
    "    countTotal = data.count()\n",
    "    for colname in [item[0] for item in data.dtypes if item[1].startswith('double')]:\n",
    "        list1=f_calc_stats(data,colname)\n",
    "        mean_val, min_val,max_val,stddev,var, skewness =list1[0]\n",
    "        count_nulls = f_check_null(data,colname)\n",
    "        dict1[colname]={}\n",
    "        dict1[colname]['mean'] = str(round(mean_val,2))\n",
    "        dict1[colname]['min'] = str(min_val)\n",
    "        dict1[colname]['max'] = str(max_val)\n",
    "        dict1[colname]['stddev'] = str(round(stddev,2))\n",
    "        dict1[colname]['var'] = str(round(var,2))\n",
    "        dict1[colname]['skewness'] = str(round(skewness,2))\n",
    "        dict1[colname]['nulls_nans'] = str(count_nulls)\n",
    "        dict1[colname]['pct_nulls_nans'] = str(round(float(count_nulls/countTotal*100),2))\n",
    "        dict1[colname]['count_empty_string'] = str(data.filter(data[colname] == \"\").count())\n",
    "        dict1[colname]['count_unique_values'] = str(data.select([colname]).distinct().count())\n",
    "   #Transposing dataframe to keep column names as rows\n",
    "    display(HTML(pd.DataFrame(dict1).T.to_html( )))"
   ]
  },
  {
   "cell_type": "code",
   "execution_count": 76,
   "metadata": {},
   "outputs": [],
   "source": [
    "def f_display_corr(df, int_col_list):\n",
    "    \"\"\"\n",
    "    Calculates the correlation and covariance of a variable against the label\n",
    "    Arguments:\n",
    "        df         - dataframe on which we are calculating the metric.\n",
    "        inColList  - list of numeric column names for which we are calculating covariance and correlation.\n",
    "    Returns:\n",
    "        Displays the correlation and covariance as a HTML table.\n",
    "    \"\"\"\n",
    "    sampleDF=df.sample(seed=1, fraction=0.5, withReplacement=False)\n",
    "    dict1={}\n",
    "    for col in int_col_list:\n",
    "        corr = df.stat.corr('label',col)\n",
    "        cov = df.stat.cov('label',col)\n",
    "        dict1[col]={}\n",
    "        dict1[col][\"Corr\"]=corr\n",
    "        dict1[col][\"Cov\"]=cov\n",
    "    display(HTML(pd.DataFrame(dict1).T.to_html( )))"
   ]
  },
  {
   "cell_type": "code",
   "execution_count": 77,
   "metadata": {},
   "outputs": [],
   "source": [
    "# Create dataframe from RDD\n",
    "def f_covert_to_df(rdd, col_list):\n",
    "    \"\"\"\n",
    "    Converts a RDD to dataframe\n",
    "    Arguments:\n",
    "        rdd         - RDD to convert to dataframe.\n",
    "        col_list    - list of columns representing the schema.\n",
    "    Returns:\n",
    "        A dataframe.\n",
    "    \"\"\"\n",
    "    return rdd.map(lambda x: x.split('\\t')).toDF(col_list)"
   ]
  },
  {
   "cell_type": "code",
   "execution_count": 129,
   "metadata": {},
   "outputs": [],
   "source": [
    "# Convert integer columns to IntegerType from String\n",
    "def f_cast_str_to_int(df, integer_col_list):\n",
    "    \"\"\"\n",
    "    Convers integer columns formatted as strings to integers.\n",
    "    Arguments:\n",
    "        df         - dataframe on which we are calculating the metric.\n",
    "        integer_col_list    - list of columns representing the integer columns in the schema.\n",
    "    Returns:\n",
    "        A dataframe.\n",
    "    \"\"\"\n",
    "    for col in integer_col_list:\n",
    "        df = df.withColumn(col, df[col].cast(types.IntegerType()))\n",
    "    return df"
   ]
  },
  {
   "cell_type": "code",
   "execution_count": 130,
   "metadata": {},
   "outputs": [],
   "source": [
    "# Removes rows where at least one column has empty string\n",
    "def f_remove_empty_string(df, categ_col_list):\n",
    "    \"\"\"\n",
    "    Removes rows where at least one column has empty string\n",
    "    Arguments:\n",
    "        df         - dataframe on which we are calculating the metric.\n",
    "        col_list    - list of columns representing the schema.\n",
    "    Returns:\n",
    "        A dataframe.\n",
    "    \"\"\"\n",
    "    for categ_col in categ_col_list:\n",
    "        df = df.filter(df[categ_col] != \"\")\n",
    "    return df"
   ]
  },
  {
   "cell_type": "markdown",
   "metadata": {},
   "source": [
    "## Summary Statistics\n",
    "\n",
    "Below we generate summary statistics for our full dataset, which again is rather large at 45,840,617 rows / records.\n",
    "\n",
    "### Numerical Columns\n",
    "\n",
    "For our 13 numerical columns, we can observe that for many of the columns there are a substantial number of null / not-a-number (nan) values.  There are many columns for which this is around 20%, though the number reaches as high  as 76.5% for the column \"int_12\".  It should be noted that for the \"int_1\" column there a no null / nan values.\n",
    "\n",
    "The values in the numerical columns vary greatly in size and often in range.  For example, column int_11 has a mean value of 0.62, while column int_5 has a mean value of 18538.99, and ranges in value from 0 to 23,159,456.0.   This wide range for column int_5 suggests that it may have a number of outliers, which we will explore further graphically.\n",
    "\n",
    "Additionally, our target variable (denoted here as \"label\") shows that on average there is a 26% click-through rate in the Criteo data, which can be seen as the mean of the column given that the column can only take on binary values (0 or 1).\n",
    "\n",
    "Furthermore, some columns, in particular \"int_5\", exhibit very high skewness and variance.  We will explore this further graphically.\n",
    "\n",
    "### Categorical Columns\n",
    "\n",
    "For our 26 categorical columns, about half of them have no empty string / null values, while the other half contain a large amount.  This reaches as high as 34,955,073 empty string / null values for \"categ_22\".  Interesting is that many of the columns with higher number of unique values also have high numbers of empty string / null values."
   ]
  },
  {
   "cell_type": "code",
   "execution_count": 137,
   "metadata": {},
   "outputs": [
    {
     "name": "stdout",
     "output_type": "stream",
     "text": [
      "45840617\n"
     ]
    }
   ],
   "source": [
    "print(rawDF_count)"
   ]
  },
  {
   "cell_type": "code",
   "execution_count": 144,
   "metadata": {},
   "outputs": [],
   "source": [
    "labelColList=[\"label\"]\n",
    "intColList=[\"int_1\", \"int_2\", \"int_3\", \"int_4\", \"int_5\", \"int_6\", \"int_7\"\\\n",
    "            , \"int_8\", \"int_9\", \"int_10\", \"int_11\", \"int_12\", \"int_13\"]\n",
    "categColList=[\"categ_1\", \"categ_2\", \"categ_3\", \"categ_4\", \"categ_5\", \"categ_6\"\\\n",
    "              , \"categ_7\", \"categ_8\", \"categ_9\", \"categ_10\", \"categ_11\", \"categ_12\"\\\n",
    "              , \"categ_13\", \"categ_14\", \"categ_15\", \"categ_16\", \"categ_17\", \"categ_18\"\\\n",
    "              , \"categ_19\", \"categ_20\", \"categ_21\", \"categ_22\", \"categ_23\", \"categ_24\", \"categ_25\", \"categ_26\"]\n"
   ]
  },
  {
   "cell_type": "code",
   "execution_count": 132,
   "metadata": {},
   "outputs": [
    {
     "name": "stdout",
     "output_type": "stream",
     "text": [
      "Summary statistics for numerical and categorical columns\n"
     ]
    },
    {
     "data": {
      "text/html": [
       "<table border=\"1\" class=\"dataframe\">\n",
       "  <thead>\n",
       "    <tr style=\"text-align: right;\">\n",
       "      <th></th>\n",
       "      <th>count_empty_string</th>\n",
       "      <th>count_unique_values</th>\n",
       "      <th>max</th>\n",
       "      <th>mean</th>\n",
       "      <th>min</th>\n",
       "      <th>nulls_nans</th>\n",
       "      <th>pct_nulls_nans</th>\n",
       "      <th>skewness</th>\n",
       "      <th>stddev</th>\n",
       "      <th>var</th>\n",
       "    </tr>\n",
       "  </thead>\n",
       "  <tbody>\n",
       "    <tr>\n",
       "      <th>label</th>\n",
       "      <td>0</td>\n",
       "      <td>2</td>\n",
       "      <td>1.0</td>\n",
       "      <td>0.26</td>\n",
       "      <td>0.0</td>\n",
       "      <td>0</td>\n",
       "      <td>0.0</td>\n",
       "      <td>1.12</td>\n",
       "      <td>0.44</td>\n",
       "      <td>0.19</td>\n",
       "    </tr>\n",
       "    <tr>\n",
       "      <th>int_1</th>\n",
       "      <td>0</td>\n",
       "      <td>649</td>\n",
       "      <td>5775.0</td>\n",
       "      <td>3.5</td>\n",
       "      <td>0.0</td>\n",
       "      <td>20793556</td>\n",
       "      <td>45.36</td>\n",
       "      <td>27.88</td>\n",
       "      <td>9.43</td>\n",
       "      <td>88.91</td>\n",
       "    </tr>\n",
       "    <tr>\n",
       "      <th>int_2</th>\n",
       "      <td>0</td>\n",
       "      <td>9364</td>\n",
       "      <td>257675.0</td>\n",
       "      <td>105.85</td>\n",
       "      <td>-3.0</td>\n",
       "      <td>0</td>\n",
       "      <td>0.0</td>\n",
       "      <td>13.2</td>\n",
       "      <td>391.46</td>\n",
       "      <td>153239.22</td>\n",
       "    </tr>\n",
       "    <tr>\n",
       "      <th>int_3</th>\n",
       "      <td>0</td>\n",
       "      <td>14746</td>\n",
       "      <td>65535.0</td>\n",
       "      <td>26.91</td>\n",
       "      <td>0.0</td>\n",
       "      <td>9839447</td>\n",
       "      <td>21.46</td>\n",
       "      <td>81.49</td>\n",
       "      <td>397.97</td>\n",
       "      <td>158382.17</td>\n",
       "    </tr>\n",
       "    <tr>\n",
       "      <th>int_4</th>\n",
       "      <td>0</td>\n",
       "      <td>490</td>\n",
       "      <td>969.0</td>\n",
       "      <td>7.32</td>\n",
       "      <td>0.0</td>\n",
       "      <td>9937369</td>\n",
       "      <td>21.68</td>\n",
       "      <td>4.09</td>\n",
       "      <td>8.79</td>\n",
       "      <td>77.32</td>\n",
       "    </tr>\n",
       "    <tr>\n",
       "      <th>int_5</th>\n",
       "      <td>0</td>\n",
       "      <td>476707</td>\n",
       "      <td>23159456.0</td>\n",
       "      <td>18538.99</td>\n",
       "      <td>0.0</td>\n",
       "      <td>1183117</td>\n",
       "      <td>2.58</td>\n",
       "      <td>10.1</td>\n",
       "      <td>69394.6</td>\n",
       "      <td>4815610657.56</td>\n",
       "    </tr>\n",
       "    <tr>\n",
       "      <th>int_6</th>\n",
       "      <td>0</td>\n",
       "      <td>11618</td>\n",
       "      <td>431037.0</td>\n",
       "      <td>116.06</td>\n",
       "      <td>0.0</td>\n",
       "      <td>10252328</td>\n",
       "      <td>22.37</td>\n",
       "      <td>184.98</td>\n",
       "      <td>382.57</td>\n",
       "      <td>146357.08</td>\n",
       "    </tr>\n",
       "    <tr>\n",
       "      <th>int_7</th>\n",
       "      <td>0</td>\n",
       "      <td>4142</td>\n",
       "      <td>56311.0</td>\n",
       "      <td>16.33</td>\n",
       "      <td>0.0</td>\n",
       "      <td>1982866</td>\n",
       "      <td>4.33</td>\n",
       "      <td>46.39</td>\n",
       "      <td>66.05</td>\n",
       "      <td>4362.57</td>\n",
       "    </tr>\n",
       "    <tr>\n",
       "      <th>int_8</th>\n",
       "      <td>0</td>\n",
       "      <td>1373</td>\n",
       "      <td>6047.0</td>\n",
       "      <td>12.52</td>\n",
       "      <td>0.0</td>\n",
       "      <td>22773</td>\n",
       "      <td>0.05</td>\n",
       "      <td>66.16</td>\n",
       "      <td>16.69</td>\n",
       "      <td>278.52</td>\n",
       "    </tr>\n",
       "    <tr>\n",
       "      <th>int_9</th>\n",
       "      <td>0</td>\n",
       "      <td>7275</td>\n",
       "      <td>29019.0</td>\n",
       "      <td>106.11</td>\n",
       "      <td>0.0</td>\n",
       "      <td>1982866</td>\n",
       "      <td>4.33</td>\n",
       "      <td>8.52</td>\n",
       "      <td>220.28</td>\n",
       "      <td>48524.64</td>\n",
       "    </tr>\n",
       "    <tr>\n",
       "      <th>int_10</th>\n",
       "      <td>0</td>\n",
       "      <td>13</td>\n",
       "      <td>11.0</td>\n",
       "      <td>0.62</td>\n",
       "      <td>0.0</td>\n",
       "      <td>20793556</td>\n",
       "      <td>45.36</td>\n",
       "      <td>1.14</td>\n",
       "      <td>0.68</td>\n",
       "      <td>0.47</td>\n",
       "    </tr>\n",
       "    <tr>\n",
       "      <th>int_11</th>\n",
       "      <td>0</td>\n",
       "      <td>169</td>\n",
       "      <td>231.0</td>\n",
       "      <td>2.73</td>\n",
       "      <td>0.0</td>\n",
       "      <td>1982866</td>\n",
       "      <td>4.33</td>\n",
       "      <td>6.04</td>\n",
       "      <td>5.2</td>\n",
       "      <td>27.03</td>\n",
       "    </tr>\n",
       "    <tr>\n",
       "      <th>int_12</th>\n",
       "      <td>0</td>\n",
       "      <td>407</td>\n",
       "      <td>4008.0</td>\n",
       "      <td>0.99</td>\n",
       "      <td>0.0</td>\n",
       "      <td>35071652</td>\n",
       "      <td>76.51</td>\n",
       "      <td>95.26</td>\n",
       "      <td>5.6</td>\n",
       "      <td>31.33</td>\n",
       "    </tr>\n",
       "    <tr>\n",
       "      <th>int_13</th>\n",
       "      <td>0</td>\n",
       "      <td>1376</td>\n",
       "      <td>7393.0</td>\n",
       "      <td>8.22</td>\n",
       "      <td>0.0</td>\n",
       "      <td>9937369</td>\n",
       "      <td>21.68</td>\n",
       "      <td>105.35</td>\n",
       "      <td>16.21</td>\n",
       "      <td>262.83</td>\n",
       "    </tr>\n",
       "  </tbody>\n",
       "</table>"
      ],
      "text/plain": [
       "<IPython.core.display.HTML object>"
      ]
     },
     "metadata": {},
     "output_type": "display_data"
    },
    {
     "data": {
      "text/html": [
       "<table border=\"1\" class=\"dataframe\">\n",
       "  <thead>\n",
       "    <tr style=\"text-align: right;\">\n",
       "      <th></th>\n",
       "      <th>Count_Empty_String</th>\n",
       "      <th>Count_Unique_Vals</th>\n",
       "    </tr>\n",
       "  </thead>\n",
       "  <tbody>\n",
       "    <tr>\n",
       "      <th>categ_1</th>\n",
       "      <td>0</td>\n",
       "      <td>1460</td>\n",
       "    </tr>\n",
       "    <tr>\n",
       "      <th>categ_2</th>\n",
       "      <td>0</td>\n",
       "      <td>583</td>\n",
       "    </tr>\n",
       "    <tr>\n",
       "      <th>categ_3</th>\n",
       "      <td>1559473</td>\n",
       "      <td>10131227</td>\n",
       "    </tr>\n",
       "    <tr>\n",
       "      <th>categ_4</th>\n",
       "      <td>1559473</td>\n",
       "      <td>2202608</td>\n",
       "    </tr>\n",
       "    <tr>\n",
       "      <th>categ_5</th>\n",
       "      <td>0</td>\n",
       "      <td>305</td>\n",
       "    </tr>\n",
       "    <tr>\n",
       "      <th>categ_6</th>\n",
       "      <td>5540625</td>\n",
       "      <td>24</td>\n",
       "    </tr>\n",
       "    <tr>\n",
       "      <th>categ_7</th>\n",
       "      <td>0</td>\n",
       "      <td>12517</td>\n",
       "    </tr>\n",
       "    <tr>\n",
       "      <th>categ_8</th>\n",
       "      <td>0</td>\n",
       "      <td>633</td>\n",
       "    </tr>\n",
       "    <tr>\n",
       "      <th>categ_9</th>\n",
       "      <td>0</td>\n",
       "      <td>3</td>\n",
       "    </tr>\n",
       "    <tr>\n",
       "      <th>categ_10</th>\n",
       "      <td>0</td>\n",
       "      <td>93145</td>\n",
       "    </tr>\n",
       "    <tr>\n",
       "      <th>categ_11</th>\n",
       "      <td>0</td>\n",
       "      <td>5683</td>\n",
       "    </tr>\n",
       "    <tr>\n",
       "      <th>categ_12</th>\n",
       "      <td>1559473</td>\n",
       "      <td>8351593</td>\n",
       "    </tr>\n",
       "    <tr>\n",
       "      <th>categ_13</th>\n",
       "      <td>0</td>\n",
       "      <td>3194</td>\n",
       "    </tr>\n",
       "    <tr>\n",
       "      <th>categ_14</th>\n",
       "      <td>0</td>\n",
       "      <td>27</td>\n",
       "    </tr>\n",
       "    <tr>\n",
       "      <th>categ_15</th>\n",
       "      <td>0</td>\n",
       "      <td>14992</td>\n",
       "    </tr>\n",
       "    <tr>\n",
       "      <th>categ_16</th>\n",
       "      <td>1559473</td>\n",
       "      <td>5461306</td>\n",
       "    </tr>\n",
       "    <tr>\n",
       "      <th>categ_17</th>\n",
       "      <td>0</td>\n",
       "      <td>10</td>\n",
       "    </tr>\n",
       "    <tr>\n",
       "      <th>categ_18</th>\n",
       "      <td>0</td>\n",
       "      <td>5652</td>\n",
       "    </tr>\n",
       "    <tr>\n",
       "      <th>categ_19</th>\n",
       "      <td>20172858</td>\n",
       "      <td>2173</td>\n",
       "    </tr>\n",
       "    <tr>\n",
       "      <th>categ_20</th>\n",
       "      <td>20172858</td>\n",
       "      <td>4</td>\n",
       "    </tr>\n",
       "    <tr>\n",
       "      <th>categ_21</th>\n",
       "      <td>1559473</td>\n",
       "      <td>7046547</td>\n",
       "    </tr>\n",
       "    <tr>\n",
       "      <th>categ_22</th>\n",
       "      <td>34955073</td>\n",
       "      <td>18</td>\n",
       "    </tr>\n",
       "    <tr>\n",
       "      <th>categ_23</th>\n",
       "      <td>0</td>\n",
       "      <td>15</td>\n",
       "    </tr>\n",
       "    <tr>\n",
       "      <th>categ_24</th>\n",
       "      <td>1559473</td>\n",
       "      <td>286181</td>\n",
       "    </tr>\n",
       "    <tr>\n",
       "      <th>categ_25</th>\n",
       "      <td>20172858</td>\n",
       "      <td>105</td>\n",
       "    </tr>\n",
       "    <tr>\n",
       "      <th>categ_26</th>\n",
       "      <td>20172858</td>\n",
       "      <td>142572</td>\n",
       "    </tr>\n",
       "  </tbody>\n",
       "</table>"
      ],
      "text/plain": [
       "<IPython.core.display.HTML object>"
      ]
     },
     "metadata": {},
     "output_type": "display_data"
    }
   ],
   "source": [
    "print(\"Summary statistics for numerical and categorical columns\")\n",
    "f_display_stats_int(fullWithColsDF)\n",
    "f_display_stats_categ(fullWithColsDF, categColList)"
   ]
  },
  {
   "cell_type": "markdown",
   "metadata": {},
   "source": [
    "## Lack of Correlation or Multicollinearity\n",
    "\n",
    "As we can see below, there is at best weak correlation of the numerical columns with the target variable.  Column int_10 has the highest correlation at 0.19, which is still fairly weak.  In terms of negative correlation, the lowest correlation is 0.08 for columns int_5 and int_13, which is also very weak.\n",
    "\n",
    "Furthermore, in the covariance matrix below we can see that there is a lack of notable multicollineraity of the columns with each other.  The majority of the values in the covariance matrix are between 0.20 and 0.30.  There are many values close to 0, though there are a handful of values as high as 0.61 (between int_04 and int_13), and 0.69 (between int_07 and int_11).  While these two columns have the highest risk of multicollinearity, which would potentially bias the data, this covariance is not strong.\n",
    "\n",
    "Overall, our dataset can be said to not have multicollinearity, and thus meets this condition for logistic regression."
   ]
  },
  {
   "cell_type": "code",
   "execution_count": 133,
   "metadata": {},
   "outputs": [
    {
     "name": "stdout",
     "output_type": "stream",
     "text": [
      "Correlation and Covariance w.r.t target field\n"
     ]
    },
    {
     "data": {
      "text/html": [
       "<table border=\"1\" class=\"dataframe\">\n",
       "  <thead>\n",
       "    <tr style=\"text-align: right;\">\n",
       "      <th></th>\n",
       "      <th>Corr</th>\n",
       "      <th>Cov</th>\n",
       "    </tr>\n",
       "  </thead>\n",
       "  <tbody>\n",
       "    <tr>\n",
       "      <th>int_1</th>\n",
       "      <td>0.104088</td>\n",
       "      <td>0.326463</td>\n",
       "    </tr>\n",
       "    <tr>\n",
       "      <th>int_2</th>\n",
       "      <td>0.044435</td>\n",
       "      <td>7.593410</td>\n",
       "    </tr>\n",
       "    <tr>\n",
       "      <th>int_3</th>\n",
       "      <td>0.009770</td>\n",
       "      <td>1.505005</td>\n",
       "    </tr>\n",
       "    <tr>\n",
       "      <th>int_4</th>\n",
       "      <td>-0.055718</td>\n",
       "      <td>-0.203014</td>\n",
       "    </tr>\n",
       "    <tr>\n",
       "      <th>int_5</th>\n",
       "      <td>-0.076539</td>\n",
       "      <td>-2290.654047</td>\n",
       "    </tr>\n",
       "    <tr>\n",
       "      <th>int_6</th>\n",
       "      <td>-0.055812</td>\n",
       "      <td>-8.296949</td>\n",
       "    </tr>\n",
       "    <tr>\n",
       "      <th>int_7</th>\n",
       "      <td>0.085156</td>\n",
       "      <td>2.404850</td>\n",
       "    </tr>\n",
       "    <tr>\n",
       "      <th>int_8</th>\n",
       "      <td>-0.027436</td>\n",
       "      <td>-0.199864</td>\n",
       "    </tr>\n",
       "    <tr>\n",
       "      <th>int_9</th>\n",
       "      <td>0.024072</td>\n",
       "      <td>2.275556</td>\n",
       "    </tr>\n",
       "    <tr>\n",
       "      <th>int_10</th>\n",
       "      <td>0.191717</td>\n",
       "      <td>0.049527</td>\n",
       "    </tr>\n",
       "    <tr>\n",
       "      <th>int_11</th>\n",
       "      <td>0.158357</td>\n",
       "      <td>0.353649</td>\n",
       "    </tr>\n",
       "    <tr>\n",
       "      <th>int_12</th>\n",
       "      <td>0.049629</td>\n",
       "      <td>0.059482</td>\n",
       "    </tr>\n",
       "    <tr>\n",
       "      <th>int_13</th>\n",
       "      <td>-0.075477</td>\n",
       "      <td>-0.485725</td>\n",
       "    </tr>\n",
       "  </tbody>\n",
       "</table>"
      ],
      "text/plain": [
       "<IPython.core.display.HTML object>"
      ]
     },
     "metadata": {},
     "output_type": "display_data"
    }
   ],
   "source": [
    "print(\"Correlation and Covariance w.r.t target field\")\n",
    "f_display_corr(fullWithColsDF, intColList)"
   ]
  },
  {
   "cell_type": "code",
   "execution_count": 145,
   "metadata": {},
   "outputs": [],
   "source": [
    "# Select only numerical columns\n",
    "fullWithColsDF_int = fullWithColsDF.select(intColList)"
   ]
  },
  {
   "cell_type": "code",
   "execution_count": 153,
   "metadata": {},
   "outputs": [],
   "source": [
    "correlation_df = fullWithColsDF_int.na.fill(0)\n",
    "\n",
    "# Convert to vector column first\n",
    "vector_col = \"corr_features\"\n",
    "assembler = VectorAssembler(inputCols=correlation_df.columns, outputCol=vector_col)\n",
    "df_vector = assembler.transform(correlation_df).select(vector_col)\n",
    "\n",
    "# Get correlation matrix\n",
    "matrix = Correlation.corr(df_vector, vector_col)"
   ]
  },
  {
   "cell_type": "code",
   "execution_count": 163,
   "metadata": {},
   "outputs": [
    {
     "name": "stdout",
     "output_type": "stream",
     "text": [
      "Covariance Matrix\n"
     ]
    },
    {
     "data": {
      "text/html": [
       "<div>\n",
       "<style scoped>\n",
       "    .dataframe tbody tr th:only-of-type {\n",
       "        vertical-align: middle;\n",
       "    }\n",
       "\n",
       "    .dataframe tbody tr th {\n",
       "        vertical-align: top;\n",
       "    }\n",
       "\n",
       "    .dataframe thead th {\n",
       "        text-align: right;\n",
       "    }\n",
       "</style>\n",
       "<table border=\"1\" class=\"dataframe\">\n",
       "  <thead>\n",
       "    <tr style=\"text-align: right;\">\n",
       "      <th></th>\n",
       "      <th>int_01</th>\n",
       "      <th>int_02</th>\n",
       "      <th>int_03</th>\n",
       "      <th>int_04</th>\n",
       "      <th>int_05</th>\n",
       "      <th>int_06</th>\n",
       "      <th>int_07</th>\n",
       "      <th>int_08</th>\n",
       "      <th>int_09</th>\n",
       "      <th>int_10</th>\n",
       "      <th>int_11</th>\n",
       "      <th>int_12</th>\n",
       "      <th>int_13</th>\n",
       "    </tr>\n",
       "  </thead>\n",
       "  <tbody>\n",
       "    <tr>\n",
       "      <th>int_01</th>\n",
       "      <td>1.000000</td>\n",
       "      <td>0.034108</td>\n",
       "      <td>0.038390</td>\n",
       "      <td>0.081069</td>\n",
       "      <td>-0.068993</td>\n",
       "      <td>-0.058315</td>\n",
       "      <td>0.477780</td>\n",
       "      <td>0.097048</td>\n",
       "      <td>0.068316</td>\n",
       "      <td>0.465176</td>\n",
       "      <td>0.304534</td>\n",
       "      <td>0.092164</td>\n",
       "      <td>0.005279</td>\n",
       "    </tr>\n",
       "    <tr>\n",
       "      <th>int_02</th>\n",
       "      <td>0.034108</td>\n",
       "      <td>1.000000</td>\n",
       "      <td>-0.008308</td>\n",
       "      <td>-0.081530</td>\n",
       "      <td>-0.006260</td>\n",
       "      <td>-0.013320</td>\n",
       "      <td>0.025422</td>\n",
       "      <td>-0.028035</td>\n",
       "      <td>-0.004732</td>\n",
       "      <td>0.035712</td>\n",
       "      <td>0.032760</td>\n",
       "      <td>-0.001294</td>\n",
       "      <td>-0.034543</td>\n",
       "    </tr>\n",
       "    <tr>\n",
       "      <th>int_03</th>\n",
       "      <td>0.038390</td>\n",
       "      <td>-0.008308</td>\n",
       "      <td>1.000000</td>\n",
       "      <td>0.042022</td>\n",
       "      <td>-0.003412</td>\n",
       "      <td>0.005079</td>\n",
       "      <td>0.000373</td>\n",
       "      <td>0.045087</td>\n",
       "      <td>-0.000465</td>\n",
       "      <td>-0.003791</td>\n",
       "      <td>-0.005823</td>\n",
       "      <td>-0.001431</td>\n",
       "      <td>0.030109</td>\n",
       "    </tr>\n",
       "    <tr>\n",
       "      <th>int_04</th>\n",
       "      <td>0.081069</td>\n",
       "      <td>-0.081530</td>\n",
       "      <td>0.042022</td>\n",
       "      <td>1.000000</td>\n",
       "      <td>-0.094468</td>\n",
       "      <td>0.015560</td>\n",
       "      <td>0.038521</td>\n",
       "      <td>0.504384</td>\n",
       "      <td>0.194364</td>\n",
       "      <td>0.157900</td>\n",
       "      <td>0.063999</td>\n",
       "      <td>0.021092</td>\n",
       "      <td>0.612960</td>\n",
       "    </tr>\n",
       "    <tr>\n",
       "      <th>int_05</th>\n",
       "      <td>-0.068993</td>\n",
       "      <td>-0.006260</td>\n",
       "      <td>-0.003412</td>\n",
       "      <td>-0.094468</td>\n",
       "      <td>1.000000</td>\n",
       "      <td>0.002158</td>\n",
       "      <td>-0.056270</td>\n",
       "      <td>-0.109468</td>\n",
       "      <td>-0.068310</td>\n",
       "      <td>-0.148043</td>\n",
       "      <td>-0.115582</td>\n",
       "      <td>-0.020923</td>\n",
       "      <td>-0.054280</td>\n",
       "    </tr>\n",
       "    <tr>\n",
       "      <th>int_06</th>\n",
       "      <td>-0.058315</td>\n",
       "      <td>-0.013320</td>\n",
       "      <td>0.005079</td>\n",
       "      <td>0.015560</td>\n",
       "      <td>0.002158</td>\n",
       "      <td>1.000000</td>\n",
       "      <td>-0.027060</td>\n",
       "      <td>0.022175</td>\n",
       "      <td>0.186576</td>\n",
       "      <td>-0.124605</td>\n",
       "      <td>-0.039072</td>\n",
       "      <td>-0.012915</td>\n",
       "      <td>0.045574</td>\n",
       "    </tr>\n",
       "    <tr>\n",
       "      <th>int_07</th>\n",
       "      <td>0.477780</td>\n",
       "      <td>0.025422</td>\n",
       "      <td>0.000373</td>\n",
       "      <td>0.038521</td>\n",
       "      <td>-0.056270</td>\n",
       "      <td>-0.027060</td>\n",
       "      <td>1.000000</td>\n",
       "      <td>0.077122</td>\n",
       "      <td>0.233840</td>\n",
       "      <td>0.251448</td>\n",
       "      <td>0.685523</td>\n",
       "      <td>0.093341</td>\n",
       "      <td>0.003478</td>\n",
       "    </tr>\n",
       "    <tr>\n",
       "      <th>int_08</th>\n",
       "      <td>0.097048</td>\n",
       "      <td>-0.028035</td>\n",
       "      <td>0.045087</td>\n",
       "      <td>0.504384</td>\n",
       "      <td>-0.109468</td>\n",
       "      <td>0.022175</td>\n",
       "      <td>0.077122</td>\n",
       "      <td>1.000000</td>\n",
       "      <td>0.206472</td>\n",
       "      <td>0.156661</td>\n",
       "      <td>0.139375</td>\n",
       "      <td>0.028334</td>\n",
       "      <td>0.631302</td>\n",
       "    </tr>\n",
       "    <tr>\n",
       "      <th>int_09</th>\n",
       "      <td>0.068316</td>\n",
       "      <td>-0.004732</td>\n",
       "      <td>-0.000465</td>\n",
       "      <td>0.194364</td>\n",
       "      <td>-0.068310</td>\n",
       "      <td>0.186576</td>\n",
       "      <td>0.233840</td>\n",
       "      <td>0.206472</td>\n",
       "      <td>1.000000</td>\n",
       "      <td>0.075001</td>\n",
       "      <td>0.403943</td>\n",
       "      <td>0.045726</td>\n",
       "      <td>0.192788</td>\n",
       "    </tr>\n",
       "    <tr>\n",
       "      <th>int_10</th>\n",
       "      <td>0.465176</td>\n",
       "      <td>0.035712</td>\n",
       "      <td>-0.003791</td>\n",
       "      <td>0.157900</td>\n",
       "      <td>-0.148043</td>\n",
       "      <td>-0.124605</td>\n",
       "      <td>0.251448</td>\n",
       "      <td>0.156661</td>\n",
       "      <td>0.075001</td>\n",
       "      <td>1.000000</td>\n",
       "      <td>0.386369</td>\n",
       "      <td>0.084908</td>\n",
       "      <td>0.023659</td>\n",
       "    </tr>\n",
       "    <tr>\n",
       "      <th>int_11</th>\n",
       "      <td>0.304534</td>\n",
       "      <td>0.032760</td>\n",
       "      <td>-0.005823</td>\n",
       "      <td>0.063999</td>\n",
       "      <td>-0.115582</td>\n",
       "      <td>-0.039072</td>\n",
       "      <td>0.685523</td>\n",
       "      <td>0.139375</td>\n",
       "      <td>0.403943</td>\n",
       "      <td>0.386369</td>\n",
       "      <td>1.000000</td>\n",
       "      <td>0.098713</td>\n",
       "      <td>0.010549</td>\n",
       "    </tr>\n",
       "    <tr>\n",
       "      <th>int_12</th>\n",
       "      <td>0.092164</td>\n",
       "      <td>-0.001294</td>\n",
       "      <td>-0.001431</td>\n",
       "      <td>0.021092</td>\n",
       "      <td>-0.020923</td>\n",
       "      <td>-0.012915</td>\n",
       "      <td>0.093341</td>\n",
       "      <td>0.028334</td>\n",
       "      <td>0.045726</td>\n",
       "      <td>0.084908</td>\n",
       "      <td>0.098713</td>\n",
       "      <td>1.000000</td>\n",
       "      <td>-0.003453</td>\n",
       "    </tr>\n",
       "    <tr>\n",
       "      <th>int_13</th>\n",
       "      <td>0.005279</td>\n",
       "      <td>-0.034543</td>\n",
       "      <td>0.030109</td>\n",
       "      <td>0.612960</td>\n",
       "      <td>-0.054280</td>\n",
       "      <td>0.045574</td>\n",
       "      <td>0.003478</td>\n",
       "      <td>0.631302</td>\n",
       "      <td>0.192788</td>\n",
       "      <td>0.023659</td>\n",
       "      <td>0.010549</td>\n",
       "      <td>-0.003453</td>\n",
       "      <td>1.000000</td>\n",
       "    </tr>\n",
       "  </tbody>\n",
       "</table>\n",
       "</div>"
      ],
      "text/plain": [
       "          int_01    int_02    int_03    int_04    int_05    int_06    int_07  \\\n",
       "int_01  1.000000  0.034108  0.038390  0.081069 -0.068993 -0.058315  0.477780   \n",
       "int_02  0.034108  1.000000 -0.008308 -0.081530 -0.006260 -0.013320  0.025422   \n",
       "int_03  0.038390 -0.008308  1.000000  0.042022 -0.003412  0.005079  0.000373   \n",
       "int_04  0.081069 -0.081530  0.042022  1.000000 -0.094468  0.015560  0.038521   \n",
       "int_05 -0.068993 -0.006260 -0.003412 -0.094468  1.000000  0.002158 -0.056270   \n",
       "int_06 -0.058315 -0.013320  0.005079  0.015560  0.002158  1.000000 -0.027060   \n",
       "int_07  0.477780  0.025422  0.000373  0.038521 -0.056270 -0.027060  1.000000   \n",
       "int_08  0.097048 -0.028035  0.045087  0.504384 -0.109468  0.022175  0.077122   \n",
       "int_09  0.068316 -0.004732 -0.000465  0.194364 -0.068310  0.186576  0.233840   \n",
       "int_10  0.465176  0.035712 -0.003791  0.157900 -0.148043 -0.124605  0.251448   \n",
       "int_11  0.304534  0.032760 -0.005823  0.063999 -0.115582 -0.039072  0.685523   \n",
       "int_12  0.092164 -0.001294 -0.001431  0.021092 -0.020923 -0.012915  0.093341   \n",
       "int_13  0.005279 -0.034543  0.030109  0.612960 -0.054280  0.045574  0.003478   \n",
       "\n",
       "          int_08    int_09    int_10    int_11    int_12    int_13  \n",
       "int_01  0.097048  0.068316  0.465176  0.304534  0.092164  0.005279  \n",
       "int_02 -0.028035 -0.004732  0.035712  0.032760 -0.001294 -0.034543  \n",
       "int_03  0.045087 -0.000465 -0.003791 -0.005823 -0.001431  0.030109  \n",
       "int_04  0.504384  0.194364  0.157900  0.063999  0.021092  0.612960  \n",
       "int_05 -0.109468 -0.068310 -0.148043 -0.115582 -0.020923 -0.054280  \n",
       "int_06  0.022175  0.186576 -0.124605 -0.039072 -0.012915  0.045574  \n",
       "int_07  0.077122  0.233840  0.251448  0.685523  0.093341  0.003478  \n",
       "int_08  1.000000  0.206472  0.156661  0.139375  0.028334  0.631302  \n",
       "int_09  0.206472  1.000000  0.075001  0.403943  0.045726  0.192788  \n",
       "int_10  0.156661  0.075001  1.000000  0.386369  0.084908  0.023659  \n",
       "int_11  0.139375  0.403943  0.386369  1.000000  0.098713  0.010549  \n",
       "int_12  0.028334  0.045726  0.084908  0.098713  1.000000 -0.003453  \n",
       "int_13  0.631302  0.192788  0.023659  0.010549 -0.003453  1.000000  "
      ]
     },
     "execution_count": 163,
     "metadata": {},
     "output_type": "execute_result"
    }
   ],
   "source": [
    "# intColList_ex = intColList=[\"int_01\", \"int_02\", \"int_03\", \"int_04\", \"int_05\", \"int_06\", \"int_07\", \"int_08\", \"int_09\", \"int_10\", \"int_11\", \"int_12\", \"int_13\"]\n",
    "\n",
    "correlation_matrix = pd.DataFrame(matrix.collect()[0][\"pearson({})\".format(vector_col)].values)\n",
    "correlation_matrix = correlation_matrix.values.reshape(13, 13)\n",
    "correlation_matrix = pd.DataFrame(correlation_matrix, columns = intColList_ex, index = intColList_ex)\n",
    "print(\"Covariance Matrix\")\n",
    "correlation_matrix"
   ]
  },
  {
   "cell_type": "markdown",
   "metadata": {},
   "source": [
    "## Graphs on Data Subset\n",
    "\n",
    "Below we show several histograms of the numerical columns to better observe their distributions.  Due to the inefficiency with which Spark plots graphs, we are using a 0.01% subset of the data for our graphs, which represents 4,635 rows.\n",
    "\n",
    "Virtually all of the columns have a large number of values of 0.  This raises the concern that the data in the numerical columns may not be as useful as we would like, as if many of the values in the columns are identical (at 0) they may lack predictive power.  All of the columns are also heavily right-skewed, likely due to the large numer of 0 values.  \n",
    "\n",
    "As seen earlier when numerically observing the range of values, many columns appear to have outliers, in particular column int_5 and int_3.  These outliers run the risk of inordinately influencing our alogrithm, thus lowering its predictive power."
   ]
  },
  {
   "cell_type": "code",
   "execution_count": 168,
   "metadata": {},
   "outputs": [
    {
     "data": {
      "text/plain": [
       "DataFrame[label: double, int_1: double, int_2: double, int_3: double, int_4: double, int_5: double, int_6: double, int_7: double, int_8: double, int_9: double, int_10: double, int_11: double, int_12: double, int_13: double, categ_1: string, categ_2: string, categ_3: string, categ_4: string, categ_5: string, categ_6: string, categ_7: string, categ_8: string, categ_9: string, categ_10: string, categ_11: string, categ_12: string, categ_13: string, categ_14: string, categ_15: string, categ_16: string, categ_17: string, categ_18: string, categ_19: string, categ_20: string, categ_21: string, categ_22: string, categ_23: string, categ_24: string, categ_25: string, categ_26: string]"
      ]
     },
     "execution_count": 168,
     "metadata": {},
     "output_type": "execute_result"
    }
   ],
   "source": [
    "sample_df = fullWithColsDF.sample(False, fraction=0.0001, seed = 1)\n",
    "sample_df.cache()"
   ]
  },
  {
   "cell_type": "code",
   "execution_count": 169,
   "metadata": {},
   "outputs": [
    {
     "data": {
      "text/plain": [
       "4635"
      ]
     },
     "execution_count": 169,
     "metadata": {},
     "output_type": "execute_result"
    }
   ],
   "source": [
    "sample_df.count()"
   ]
  },
  {
   "cell_type": "code",
   "execution_count": 170,
   "metadata": {},
   "outputs": [],
   "source": [
    "#Convert to Pandas DataFrame\n",
    "pd_sample_df = sample_df.toPandas()"
   ]
  },
  {
   "cell_type": "code",
   "execution_count": 172,
   "metadata": {},
   "outputs": [
    {
     "data": {
      "text/plain": [
       "array([[<matplotlib.axes._subplots.AxesSubplot object at 0x7f3d0ee8ab38>,\n",
       "        <matplotlib.axes._subplots.AxesSubplot object at 0x7f3d0d54eb00>,\n",
       "        <matplotlib.axes._subplots.AxesSubplot object at 0x7f3d0d4460b8>,\n",
       "        <matplotlib.axes._subplots.AxesSubplot object at 0x7f3d0d39b630>],\n",
       "       [<matplotlib.axes._subplots.AxesSubplot object at 0x7f3d0d3e8ba8>,\n",
       "        <matplotlib.axes._subplots.AxesSubplot object at 0x7f3d0cf97128>,\n",
       "        <matplotlib.axes._subplots.AxesSubplot object at 0x7f3d0d1626a0>,\n",
       "        <matplotlib.axes._subplots.AxesSubplot object at 0x7f3d0cdc4c50>],\n",
       "       [<matplotlib.axes._subplots.AxesSubplot object at 0x7f3d0cdc4c88>,\n",
       "        <matplotlib.axes._subplots.AxesSubplot object at 0x7f3d0c80e748>,\n",
       "        <matplotlib.axes._subplots.AxesSubplot object at 0x7f3d0cc80cc0>,\n",
       "        <matplotlib.axes._subplots.AxesSubplot object at 0x7f3d0cc10278>],\n",
       "       [<matplotlib.axes._subplots.AxesSubplot object at 0x7f3d0caf97f0>,\n",
       "        <matplotlib.axes._subplots.AxesSubplot object at 0x7f3d0ca6ed68>,\n",
       "        <matplotlib.axes._subplots.AxesSubplot object at 0x7f3d0c939320>,\n",
       "        <matplotlib.axes._subplots.AxesSubplot object at 0x7f3d0c8a7898>]],\n",
       "      dtype=object)"
      ]
     },
     "execution_count": 172,
     "metadata": {},
     "output_type": "execute_result"
    },
    {
     "data": {
      "image/png": "[encoded data removed]",
      "text/plain": [
       "<Figure size 1080x1080 with 16 Axes>"
      ]
     },
     "metadata": {
      "needs_background": "light"
     },
     "output_type": "display_data"
    }
   ],
   "source": [
    "pd_sample_df.hist(figsize = (15,15))"
   ]
  },
  {
   "cell_type": "code",
   "execution_count": null,
   "metadata": {
    "collapsed": true
   },
   "outputs": [],
   "source": []
  },
  {
   "cell_type": "code",
   "execution_count": null,
   "metadata": {
    "collapsed": true
   },
   "outputs": [],
   "source": []
  },
  {
   "cell_type": "code",
   "execution_count": null,
   "metadata": {
    "collapsed": true
   },
   "outputs": [],
   "source": []
  },
  {
   "cell_type": "code",
   "execution_count": null,
   "metadata": {},
   "outputs": [],
   "source": []
  },
  {
   "cell_type": "markdown",
   "metadata": {},
   "source": [
    "## Algorithm Explanation - With Toy Example"
   ]
  },
  {
   "cell_type": "markdown",
   "metadata": {},
   "source": [
    "As we have shown that we have met all the assumptions for logistic regression, we will proceed to use it for our Click Through Rate prediction task.\n",
    "\n",
    "Before we perform the prediction on the Criteo dataset, we will begin by explaining the methodology behind how to apply linear regression to a dataset with a mix of numerical and categorical columns."
   ]
  },
  {
   "cell_type": "code",
   "execution_count": 89,
   "metadata": {},
   "outputs": [],
   "source": [
    "??parse_raw_df"
   ]
  },
  {
   "cell_type": "code",
   "execution_count": 94,
   "metadata": {},
   "outputs": [],
   "source": [
    "toy_rawDF = sqlContext.read.text('gs://w261_final_project_ajh_bucket/data/Toy_Example_Data.csv').withColumnRenamed(\"value\", \"text\")\n"
   ]
  },
  {
   "cell_type": "code",
   "execution_count": 95,
   "metadata": {},
   "outputs": [],
   "source": [
    "def parse_point_toy(point):\n",
    "    \"\"\"Converts a comma separated string into a list of (featureID, value) tuples.\n",
    "\n",
    "    Note:\n",
    "        featureIDs should start at 0 and increase to the number of features - 1.\n",
    "\n",
    "    Args:\n",
    "        point (str): A comma separated string where the first value is the label and the rest\n",
    "            are features.\n",
    "\n",
    "    Returns:\n",
    "        list: A list of (featureID, value) tuples.\n",
    "    \"\"\"\n",
    "    values = point.split(',')[1:]\n",
    "    #values = filter(None, values)\n",
    "    indices = range(len(values))\n",
    "    return zip(indices,values)"
   ]
  },
  {
   "cell_type": "code",
   "execution_count": 96,
   "metadata": {},
   "outputs": [],
   "source": [
    "from pyspark.sql.functions import udf, split\n",
    "from pyspark.sql.types import ArrayType, StructType, StructField, LongType, StringType, FloatType, DoubleType\n",
    "\n",
    "\n",
    "parse_point_toy_udf = udf(parse_point_toy, ArrayType(StructType([StructField('_1', LongType()),StructField('_2', StringType())])))\n",
    "\n",
    "def parse_toy_raw_df(raw_df):\n",
    "    \"\"\"Convert a DataFrame consisting of rows of comma separated text into labels and feature.\n",
    "\n",
    "\n",
    "    Args:\n",
    "        raw_df: DataFrame containing the raw comma separated data.\n",
    "\n",
    "    Returns:\n",
    "        DataFrame: A DataFrame with 'label' and 'feature' columns.   \n",
    "  \n",
    "    \"\"\"\n",
    "    return (raw_df.select(split(raw_df.text,',').getItem(0).cast(\"double\").alias('label'),\n",
    "                         parse_point_toy_udf(raw_df.text).alias('features'))\n",
    "                        .cache())"
   ]
  },
  {
   "cell_type": "code",
   "execution_count": 97,
   "metadata": {},
   "outputs": [],
   "source": [
    "def toy_create_one_hot_dict(input_df):\n",
    "    \"\"\"Creates a one-hot-encoder dictionary based on the input data.\n",
    "\n",
    "    Args:\n",
    "        input_df (DataFrame with 'features' column): A DataFrame where each row contains a list of\n",
    "            (featureID, value) tuples.\n",
    "\n",
    "    Returns:\n",
    "        dict: A dictionary where the keys are (featureID, value) tuples and map to values that are\n",
    "            unique integers.\n",
    "    \"\"\"\n",
    "    input_distinct_feats_df = input_df.select(explode(input_df.features)).distinct()\n",
    "    input_ohe_dict = (input_distinct_feats_df\n",
    "                     .rdd\n",
    "                     .map(lambda r: tuple(r[0]))\n",
    "                     .zipWithIndex().collectAsMap())\n",
    "    return input_ohe_dict"
   ]
  },
  {
   "cell_type": "code",
   "execution_count": 98,
   "metadata": {},
   "outputs": [],
   "source": [
    "from pyspark.sql.functions import udf\n",
    "from pyspark.mllib.linalg import VectorUDT\n",
    "\n",
    "def toy_ohe_udf_generator(ohe_dict_broadcast):\n",
    "    \"\"\"Generate a UDF that is setup to one-hot-encode rows with the given dictionary.\n",
    "\n",
    "    Note:\n",
    "        We'll reuse this function to generate a UDF that can one-hot-encode rows based on a\n",
    "        one-hot-encoding dictionary built from the training data.  Also, you should calculate\n",
    "        the number of features before calling the toy_one_hot_encoding function.\n",
    "\n",
    "    Args:\n",
    "        ohe_dict_broadcast (Broadcast of dict): Broadcast variable containing a dict that maps\n",
    "            (featureID, value) to unique integer.\n",
    "\n",
    "    Returns:\n",
    "        UserDefinedFunction: A UDF can be used in `DataFrame` `select` statement to call a\n",
    "            function on each row in a given column.  This UDF should call the toy_one_hot_encoding\n",
    "            function with the appropriate parameters.\n",
    "    \"\"\"\n",
    "    length = len(ohe_dict_broadcast.value)\n",
    "    return udf(lambda x: toy_one_hot_encoding(x, ohe_dict_broadcast, length), VectorUDT())\n"
   ]
  },
  {
   "cell_type": "code",
   "execution_count": 99,
   "metadata": {},
   "outputs": [],
   "source": [
    "from pyspark.mllib.linalg import SparseVector\n",
    "def toy_one_hot_encoding(raw_feats, ohe_dict_broadcast, num_ohe_feats):\n",
    "    \"\"\"Produce a one-hot-encoding from a list of features and an OHE dictionary.\n",
    "\n",
    "    Note:\n",
    "        You should ensure that the indices used to create a SparseVector are sorted.\n",
    "\n",
    "    Args:\n",
    "        raw_feats (list of (int, str)): The features corresponding to a single observation.  Each\n",
    "            feature consists of a tuple of featureID and the feature's value. (e.g. sample_one)\n",
    "        ohe_dict_broadcast (Broadcast of dict): Broadcast variable containing a dict that maps\n",
    "            (featureID, value) to unique integer.\n",
    "        num_ohe_feats (int): The total number of unique OHE features (combinations of featureID and\n",
    "            value).\n",
    "\n",
    "    Returns:\n",
    "        SparseVector: A SparseVector of length num_ohe_feats with indices equal to the unique\n",
    "            identifiers for the (featureID, value) combinations that occur in the observation and\n",
    "            with values equal to 1.0.\n",
    "    \"\"\"\n",
    "    indices = sorted([ohe_dict_broadcast.value[feat] for feat in raw_feats])\n",
    "    values = np.ones(len(raw_feats))\n",
    "    return SparseVector(num_ohe_feats,indices,values)"
   ]
  },
  {
   "cell_type": "code",
   "execution_count": 100,
   "metadata": {},
   "outputs": [
    {
     "name": "stdout",
     "output_type": "stream",
     "text": [
      "+--------------------+\n",
      "|                text|\n",
      "+--------------------+\n",
      "|1,4,6.37,2.85,0,A...|\n",
      "|1,5,7.84,3.91,1,S...|\n",
      "|1,2,5.5,2.82,1,St...|\n",
      "|1,3,8.43,1.92,1,E...|\n",
      "|0,4,6.29,3.43,1,F...|\n",
      "|1,4,8.36,1.91,1,J...|\n",
      "|1,4,6.56,3.61,1,B...|\n",
      "|0,2,7.98,1.96,0,F...|\n",
      "|1,4,5.52,2.85,0,C...|\n",
      "|1,3,9.15,3.34,0,F...|\n",
      "|1,4,6.14,1.82,1,M...|\n",
      "|0,4,6.87,1.75,1,J...|\n",
      "|1,3,6.9,3.84,1,Sp...|\n",
      "|1,2,6.53,1.57,0,A...|\n",
      "|1,4,9.98,3.66,1,S...|\n",
      "|0,2,9.78,2.81,1,M...|\n",
      "|0,2,5.1,3.32,1,St...|\n",
      "|1,3,5.32,3.62,1,A...|\n",
      "|1,2,7.16,3.72,1,C...|\n",
      "|0,3,6.07,2.29,0,R...|\n",
      "+--------------------+\n",
      "only showing top 20 rows\n",
      "\n"
     ]
    }
   ],
   "source": [
    "toy_rawDF.show()\n"
   ]
  },
  {
   "cell_type": "code",
   "execution_count": 102,
   "metadata": {},
   "outputs": [
    {
     "name": "stdout",
     "output_type": "stream",
     "text": [
      "806 94 100 1000\n"
     ]
    }
   ],
   "source": [
    "weights = [.8, .1, .1]\n",
    "seed = 42\n",
    "# Use randomSplit with weights and seed\n",
    "raw_toy_train_df, raw_toy_validation_df, raw_toy_test_df = toy_rawDF.randomSplit(weights, seed)\n",
    "\n",
    "# Cache and count the DataFrames\n",
    "n_toy_train = raw_toy_train_df.cache().count()\n",
    "n_toy_val = raw_toy_validation_df.cache().count()\n",
    "n_toy_test = raw_toy_test_df.cache().count()\n",
    "print(n_toy_train, n_toy_val, n_toy_test, str(n_toy_train + n_toy_val + n_toy_test))"
   ]
  },
  {
   "cell_type": "code",
   "execution_count": 103,
   "metadata": {},
   "outputs": [
    {
     "name": "stdout",
     "output_type": "stream",
     "text": [
      "Row(label=0.0, features=[Row(_1=0, _2='2'), Row(_1=1, _2='5.01'), Row(_1=2, _2='2.41'), Row(_1=3, _2='1'), Row(_1=4, _2='Math'), Row(_1=5, _2='German')])\n"
     ]
    }
   ],
   "source": [
    "parsed_toy_train_df = parse_toy_raw_df(raw_toy_train_df)\n",
    "print(parsed_toy_train_df.head())"
   ]
  },
  {
   "cell_type": "code",
   "execution_count": 104,
   "metadata": {},
   "outputs": [],
   "source": [
    "from pyspark.sql.functions import (explode, col)\n",
    "num_toy_categories = (parsed_toy_train_df\n",
    "                    .select(explode('features').alias('features'))\n",
    "                    .distinct()\n",
    "                    .select(col('features').getField('_1').alias('featureNumber'))\n",
    "                    .groupBy('featureNumber')\n",
    "                    .sum()\n",
    "                    .orderBy('featureNumber')\n",
    "                    .collect())"
   ]
  },
  {
   "cell_type": "code",
   "execution_count": 105,
   "metadata": {},
   "outputs": [
    {
     "name": "stdout",
     "output_type": "stream",
     "text": [
      "[Row(featureNumber=0, sum(featureNumber)=0), Row(featureNumber=1, sum(featureNumber)=402), Row(featureNumber=2, sum(featureNumber)=480), Row(featureNumber=3, sum(featureNumber)=6), Row(featureNumber=4, sum(featureNumber)=68), Row(featureNumber=5, sum(featureNumber)=85)]\n"
     ]
    }
   ],
   "source": [
    "print(num_toy_categories)"
   ]
  },
  {
   "cell_type": "code",
   "execution_count": 106,
   "metadata": {},
   "outputs": [
    {
     "name": "stdout",
     "output_type": "stream",
     "text": [
      "682\n"
     ]
    }
   ],
   "source": [
    "toy_ohe_dict = toy_create_one_hot_dict(parsed_toy_train_df)\n",
    "num_toy_ohe_feats = len(toy_ohe_dict)\n",
    "print(num_toy_ohe_feats)"
   ]
  },
  {
   "cell_type": "markdown",
   "metadata": {},
   "source": [
    "682"
   ]
  },
  {
   "cell_type": "code",
   "execution_count": 107,
   "metadata": {},
   "outputs": [
    {
     "name": "stdout",
     "output_type": "stream",
     "text": [
      "806\n",
      "+--------------------+-----+\n",
      "|            features|label|\n",
      "+--------------------+-----+\n",
      "|(682,[82,113,117,...|  0.0|\n",
      "|(682,[23,82,185,3...|  0.0|\n",
      "|(682,[70,82,234,2...|  0.0|\n",
      "|(682,[82,355,418,...|  0.0|\n",
      "|(682,[82,462,576,...|  0.0|\n",
      "|(682,[176,378,418...|  0.0|\n",
      "|(682,[260,378,418...|  0.0|\n",
      "|(682,[378,414,447...|  0.0|\n",
      "|(682,[217,378,522...|  0.0|\n",
      "|(682,[235,378,536...|  0.0|\n",
      "|(682,[82,151,152,...|  0.0|\n",
      "|(682,[82,230,272,...|  0.0|\n",
      "|(682,[160,227,378...|  0.0|\n",
      "|(682,[82,153,160,...|  0.0|\n",
      "|(682,[131,182,348...|  0.0|\n",
      "|(682,[67,82,137,5...|  0.0|\n",
      "|(682,[32,137,250,...|  0.0|\n",
      "|(682,[82,137,154,...|  0.0|\n",
      "|(682,[117,267,330...|  0.0|\n",
      "|(682,[82,144,370,...|  0.0|\n",
      "+--------------------+-----+\n",
      "only showing top 20 rows\n",
      "\n",
      "None\n",
      "[Row(features=SparseVector(682, {82: 1.0, 113: 1.0, 117: 1.0, 413: 1.0, 502: 1.0, 674: 1.0}), label=0.0)]\n"
     ]
    }
   ],
   "source": [
    "toy_ohe_dict_broadcast = sc.broadcast(toy_ohe_dict)\n",
    "toy_ohe_dict_udf =  toy_ohe_udf_generator(toy_ohe_dict_broadcast)\n",
    "toy_ohe_train_df =  parsed_toy_train_df.select(toy_ohe_dict_udf(parsed_toy_train_df.features).alias('features'),parsed_toy_train_df.label,)\n",
    "#ohe_train_df.show(1)                  \n",
    "\n",
    "print(toy_ohe_train_df.count())\n",
    "print(toy_ohe_train_df.show())\n",
    "print(toy_ohe_train_df.take(1))"
   ]
  },
  {
   "cell_type": "code",
   "execution_count": 108,
   "metadata": {},
   "outputs": [],
   "source": [
    "toy_ohe_train_rdd = toy_ohe_train_df \\\n",
    "                     .rdd \\\n",
    "                     .cache()"
   ]
  },
  {
   "cell_type": "code",
   "execution_count": 109,
   "metadata": {},
   "outputs": [
    {
     "name": "stdout",
     "output_type": "stream",
     "text": [
      "PercentDropOut: 0.6625310173697271\n",
      "Mean: 0.6625310173697274\n",
      "Variance: 0.2235836683927612\n"
     ]
    }
   ],
   "source": [
    "meanDropOut = toy_ohe_train_rdd.map(lambda x: x[1]).mean()\n",
    "varDropOut = toy_ohe_train_rdd.map(lambda x: x[1]).variance()\n",
    "numDropOut = toy_ohe_train_rdd.map(lambda x: x[1]).sum()/toy_ohe_train_df.count()\n",
    "print(f\"PercentDropOut: {numDropOut}\")\n",
    "print(f\"Mean: {meanDropOut}\")\n",
    "print(f\"Variance: {varDropOut}\")"
   ]
  },
  {
   "cell_type": "code",
   "execution_count": 110,
   "metadata": {},
   "outputs": [],
   "source": [
    "BASELINE = np.append(meanDropOut, np.zeros(num_toy_ohe_feats))"
   ]
  },
  {
   "cell_type": "code",
   "execution_count": 111,
   "metadata": {},
   "outputs": [],
   "source": [
    "def sigmoid(z):\n",
    "    return 1 / (1 + np.exp(-z))"
   ]
  },
  {
   "cell_type": "code",
   "execution_count": 116,
   "metadata": {},
   "outputs": [],
   "source": [
    "def GradientDescent(trainRDD, testRDD, wInit, nSteps = 20, \n",
    "                    learningRate = 0.01, verbose = False):\n",
    "    \"\"\"\n",
    "    Perform nSteps iterations of gradient descent and \n",
    "    track loss on a test and train set. Return lists of\n",
    "    test/train loss and the models themselves.\n",
    "    \"\"\"\n",
    "    # initialize lists to track model performance\n",
    "    train_history, test_history, model_history = [], [], []\n",
    "    \n",
    "    # perform n updates & compute test and train loss after each\n",
    "    model = wInit\n",
    "    for idx in range(nSteps):  \n",
    "        model = GDUpdate(trainRDD, model, learningRate)\n",
    "        training_loss = LogLoss(trainRDD, model) \n",
    "        test_loss = LogLoss(testRDD, model)\n",
    "        \n",
    "        # keep track of test/train loss for plotting\n",
    "        train_history.append(training_loss)\n",
    "        test_history.append(test_loss)\n",
    "        model_history.append(model)\n",
    "        \n",
    "        # console output if desired\n",
    "        if verbose:\n",
    "            print(\"----------\")\n",
    "            print(f\"STEP: {idx+1}\")\n",
    "            print(f\"training loss: {training_loss}\")\n",
    "            print(f\"test loss: {test_loss}\")\n",
    "            print(f\"Model: {[round(w,3) for w in model]}\")\n",
    "    return train_history, test_history, model_history"
   ]
  },
  {
   "cell_type": "code",
   "execution_count": 114,
   "metadata": {},
   "outputs": [],
   "source": [
    "def LogLoss(dataRDD, W):\n",
    "    \"\"\"\n",
    "    Compute log loss.\n",
    "    Args:\n",
    "        dataRDD - each record is a tuple of (features_array, y)\n",
    "        W       - (array) model coefficients with bias at index 0\n",
    "    \"\"\"\n",
    "    augmentedData = dataRDD.map(lambda x: (np.append([1.0], x[0]), x[1])).cache()\n",
    "    loss = augmentedData.map(lambda x: (-x[1] * np.log(sigmoid(W.dot(x[0]))) \\\n",
    "                                     - (1 - x[1]) * np.log(1 - sigmoid(W.dot(x[0])))) ).mean()\n",
    "    return loss"
   ]
  },
  {
   "cell_type": "code",
   "execution_count": 115,
   "metadata": {},
   "outputs": [],
   "source": [
    "def GDUpdate(dataRDD, W, learningRate = 0.1):\n",
    "    \"\"\"\n",
    "    Perform one step/update on the Logistic regression.\n",
    "    Args:\n",
    "        dataRDD - records are tuples of (features_array, y)\n",
    "        W       - (array) model coefficients with bias at index 0\n",
    "    Returns:\n",
    "        new_model - (array) updated coefficients, bias at index 0\n",
    "    \"\"\"\n",
    "    # add a bias 'feature' of 1 at index 0\n",
    "    augmentedData = dataRDD.map(lambda x: (np.append([1.0], x[0]), x[1])).cache()\n",
    "    grad = augmentedData.map(lambda x: np.dot(sigmoid(W.dot(x[0]) - x[1]),x[0])).mean()\n",
    "    new_model = W - learningRate * grad\n",
    "    \n",
    "    return new_model"
   ]
  },
  {
   "cell_type": "code",
   "execution_count": 118,
   "metadata": {},
   "outputs": [
    {
     "name": "stdout",
     "output_type": "stream",
     "text": [
      "BASELINE:  Loss = 0.6393586657271466\n",
      "----------\n",
      "STEP: 1\n",
      "Loss: 0.6405834992567013\n",
      "----------\n",
      "STEP: 2\n",
      "Loss: 0.643721487215732\n",
      "----------\n",
      "STEP: 3\n",
      "Loss: 0.6485545689963543\n",
      "----------\n",
      "STEP: 4\n",
      "Loss: 0.6548778151932536\n",
      "----------\n",
      "STEP: 5\n",
      "Loss: 0.6625012704436208\n"
     ]
    }
   ],
   "source": [
    "nSteps = 5\n",
    "model = BASELINE\n",
    "print(f\"BASELINE:  Loss = {LogLoss(toy_ohe_train_rdd,model)}\")\n",
    "for idx in range(nSteps):\n",
    "    print(\"----------\")\n",
    "    print(f\"STEP: {idx+1}\")\n",
    "    model = GDUpdate(toy_ohe_train_rdd, model)\n",
    "    loss = LogLoss(toy_ohe_train_rdd, model)\n",
    "    print(f\"Loss: {loss}\")\n",
    "  #  print(f\"Model: {[round(w,3) for w in model]}\")"
   ]
  },
  {
   "cell_type": "code",
   "execution_count": 123,
   "metadata": {},
   "outputs": [
    {
     "name": "stdout",
     "output_type": "stream",
     "text": [
      "\n",
      "... trained 50 iterations in 622.8087210655212 seconds\n"
     ]
    }
   ],
   "source": [
    "# run 50 iterations (RUN THIS CELL AS IS)\n",
    "wInit = BASELINE\n",
    "trainRDD, testRDD = toy_ohe_train_rdd.randomSplit([0.8,0.2], seed = 2018)\n",
    "start = time.time()\n",
    "train, test, models = GradientDescent(trainRDD, testRDD, wInit, nSteps = 50)\n",
    "print(f\"\\n... trained {len(models)} iterations in {time.time() - start} seconds\")"
   ]
  },
  {
   "cell_type": "code",
   "execution_count": 119,
   "metadata": {},
   "outputs": [],
   "source": [
    "def toy_one_hot_encoding_v2(raw_feats, ohe_dict_broadcast, num_ohe_feats):\n",
    "    \"\"\"Produce a one-hot-encoding from a list of features and an OHE dictionary.\n",
    "\n",
    "    Note:\n",
    "        You should ensure that the indices used to create a SparseVector are sorted, and that the\n",
    "        function handles missing features.\n",
    "\n",
    "    Args:\n",
    "        raw_feats (list of (int, str)): The features corresponding to a single observation.  Each\n",
    "            feature consists of a tuple of featureID and the feature's value. (e.g. sample_one)\n",
    "        ohe_dict_broadcast (Broadcast of dict): Broadcast variable containing a dict that maps\n",
    "            (featureID, value) to unique integer.\n",
    "        num_ohe_feats (int): The total number of unique OHE features (combinations of featureID and\n",
    "            value).\n",
    "\n",
    "    Returns:\n",
    "        SparseVector: A SparseVector of length num_ohe_feats with indices equal to the unique\n",
    "            identifiers for the (featureID, value) combinations that occur in the observation and\n",
    "            with values equal to 1.0.\n",
    "    \"\"\"\n",
    "    indices = sorted([ohe_dict_broadcast.value[feat] for feat in raw_feats if feat in ohe_dict_broadcast.value])\n",
    "    values = np.ones(len([feat for feat in raw_feats if feat in ohe_dict_broadcast.value] ))\n",
    "#     values = np.ones(len([raw_feats]))\n",
    "    return SparseVector(num_ohe_feats,indices,values)\n",
    "\n",
    "def toy_ohe_udf_generator_v2(ohe_dict_broadcast):\n",
    "    \"\"\"Generate a UDF that is setup to one-hot-encode rows with the given dictionary.\n",
    "\n",
    "    Note:\n",
    "        We'll reuse this function to generate a UDF that can one-hot-encode rows based on a\n",
    "        one-hot-encoding dictionary built from the training data.  Also, you should calculate\n",
    "        the number of features before calling the one_hot_encoding function.\n",
    "\n",
    "    Args:\n",
    "        ohe_dict_broadcast (Broadcast of dict): Broadcast variable containing a dict that maps\n",
    "            (featureID, value) to unique integer.\n",
    "\n",
    "    Returns:\n",
    "        UserDefinedFunction: A UDF can be used in `DataFrame` `select` statement to call a\n",
    "            function on each row in a given column.  This UDF should call the one_hot_encoding\n",
    "            function with the appropriate parameters.\n",
    "    \"\"\"\n",
    "    length = len(ohe_dict_broadcast.value)\n",
    "    return udf(lambda x: toy_one_hot_encoding_v2(x, ohe_dict_broadcast, length), VectorUDT())"
   ]
  },
  {
   "cell_type": "code",
   "execution_count": 120,
   "metadata": {},
   "outputs": [
    {
     "name": "stdout",
     "output_type": "stream",
     "text": [
      "806\n",
      "+--------------------+-----+\n",
      "|            features|label|\n",
      "+--------------------+-----+\n",
      "|(682,[82,113,117,...|  0.0|\n",
      "|(682,[23,82,185,3...|  0.0|\n",
      "|(682,[70,82,234,2...|  0.0|\n",
      "|(682,[82,355,418,...|  0.0|\n",
      "|(682,[82,462,576,...|  0.0|\n",
      "|(682,[176,378,418...|  0.0|\n",
      "|(682,[260,378,418...|  0.0|\n",
      "|(682,[378,414,447...|  0.0|\n",
      "|(682,[217,378,522...|  0.0|\n",
      "|(682,[235,378,536...|  0.0|\n",
      "|(682,[82,151,152,...|  0.0|\n",
      "|(682,[82,230,272,...|  0.0|\n",
      "|(682,[160,227,378...|  0.0|\n",
      "|(682,[82,153,160,...|  0.0|\n",
      "|(682,[131,182,348...|  0.0|\n",
      "|(682,[67,82,137,5...|  0.0|\n",
      "|(682,[32,137,250,...|  0.0|\n",
      "|(682,[82,137,154,...|  0.0|\n",
      "|(682,[117,267,330...|  0.0|\n",
      "|(682,[82,144,370,...|  0.0|\n",
      "+--------------------+-----+\n",
      "only showing top 20 rows\n",
      "\n",
      "None\n",
      "[Row(features=SparseVector(682, {82: 1.0, 113: 1.0, 117: 1.0, 413: 1.0, 502: 1.0, 674: 1.0}), label=0.0)]\n"
     ]
    }
   ],
   "source": [
    "#test\n",
    "toy_ohe_dict_missing_udf = toy_ohe_udf_generator_v2(toy_ohe_dict_broadcast)\n",
    "\n",
    "toy_ohe_test_df = parsed_toy_train_df.select(toy_ohe_dict_missing_udf(parsed_toy_train_df.features).alias('features'), parsed_toy_train_df.label,).cache()\n",
    "print(toy_ohe_test_df.count())\n",
    "print(toy_ohe_test_df.show())\n",
    "print(toy_ohe_test_df.take(1))"
   ]
  },
  {
   "cell_type": "code",
   "execution_count": 121,
   "metadata": {},
   "outputs": [],
   "source": [
    "toy_ohe_test_rdd = toy_ohe_test_df \\\n",
    "                     .rdd \\\n",
    "                     .cache()"
   ]
  },
  {
   "cell_type": "code",
   "execution_count": 124,
   "metadata": {},
   "outputs": [
    {
     "data": {
      "text/plain": [
       "0.6617741806149889"
      ]
     },
     "execution_count": 124,
     "metadata": {},
     "output_type": "execute_result"
    }
   ],
   "source": [
    "#MSE = LogLoss(ohe_test_rdd, models)\n",
    "toy_train_model = np.asarray(models[-1])\n",
    "LogLoss(toy_ohe_test_rdd, toy_train_model)"
   ]
  },
  {
   "cell_type": "code",
   "execution_count": null,
   "metadata": {},
   "outputs": [],
   "source": []
  },
  {
   "cell_type": "code",
   "execution_count": null,
   "metadata": {},
   "outputs": [],
   "source": []
  },
  {
   "cell_type": "markdown",
   "metadata": {},
   "source": [
    "## Algorithm Implementation"
   ]
  },
  {
   "cell_type": "code",
   "execution_count": 20,
   "metadata": {
    "collapsed": true
   },
   "outputs": [],
   "source": [
    "weights = [0.8, 0.1, 0.1]\n",
    "seed = 1\n",
    "\n",
    "# Use randomSplit with weights and seed\n",
    "rawTrainDF, rawValidationDF, rawTestDF = rawDF.randomSplit(weights, seed)\n"
   ]
  },
  {
   "cell_type": "code",
   "execution_count": 21,
   "metadata": {
    "collapsed": true
   },
   "outputs": [],
   "source": [
    "#25% sampling due to memory errors\n",
    "rawTrainNewDF = rawTrainDF.sample(withReplacement=False, fraction=0.25, seed=1)"
   ]
  },
  {
   "cell_type": "code",
   "execution_count": 22,
   "metadata": {},
   "outputs": [
    {
     "data": {
      "text/plain": [
       "DataFrame[text: string]"
      ]
     },
     "execution_count": 22,
     "metadata": {},
     "output_type": "execute_result"
    }
   ],
   "source": [
    "rawTrainNewDF.cache()\n",
    "rawValidationDF.cache()\n",
    "rawTestDF.cache()"
   ]
  },
  {
   "cell_type": "code",
   "execution_count": 23,
   "metadata": {},
   "outputs": [
    {
     "data": {
      "text/plain": [
       "9167896"
      ]
     },
     "execution_count": 23,
     "metadata": {},
     "output_type": "execute_result"
    }
   ],
   "source": [
    "rawTrainNewDF.count()"
   ]
  },
  {
   "cell_type": "code",
   "execution_count": 31,
   "metadata": {},
   "outputs": [],
   "source": [
    "trainWithColsDF = rawTrainNewDF.withColumn('tmp', split('text', '\\t')).\\\n",
    "                    select( col(\"tmp\").getItem(0).cast(\"double\").alias(\"label\")\n",
    "                    , col(\"tmp\").getItem(1).cast(\"double\").alias(\"int_1\")\n",
    "                    , col(\"tmp\").getItem(2).cast(\"double\").alias(\"int_2\")\n",
    "                    , col(\"tmp\").getItem(3).cast(\"double\").alias(\"int_3\")\n",
    "                    , col(\"tmp\").getItem(4).cast(\"double\").alias(\"int_4\")\n",
    "                    , col(\"tmp\").getItem(5).cast(\"double\").alias(\"int_5\")\n",
    "                    , col(\"tmp\").getItem(6).cast(\"double\").alias(\"int_6\")\n",
    "                    , col(\"tmp\").getItem(7).cast(\"double\").alias(\"int_7\")\n",
    "                    , col(\"tmp\").getItem(8).cast(\"double\").alias(\"int_8\")\n",
    "                    , col(\"tmp\").getItem(9).cast(\"double\").alias(\"int_9\")\n",
    "                    , col(\"tmp\").getItem(10).cast(\"double\").alias(\"int_10\")\n",
    "                    , col(\"tmp\").getItem(11).cast(\"double\").alias(\"int_11\")\n",
    "                    , col(\"tmp\").getItem(12).cast(\"double\").alias(\"int_12\")\n",
    "                    , col(\"tmp\").getItem(13).cast(\"double\").alias(\"int_13\")\n",
    "                    , col(\"tmp\").getItem(14).alias(\"categ_1\")\n",
    "                    , col(\"tmp\").getItem(15).alias(\"categ_2\")\n",
    "                    , col(\"tmp\").getItem(16).alias(\"categ_3\")\n",
    "                    , col(\"tmp\").getItem(17).alias(\"categ_4\")\n",
    "                    , col(\"tmp\").getItem(18).alias(\"categ_5\")\n",
    "                    , col(\"tmp\").getItem(19).alias(\"categ_6\")\n",
    "                    , col(\"tmp\").getItem(20).alias(\"categ_7\")\n",
    "                    , col(\"tmp\").getItem(21).alias(\"categ_8\")\n",
    "                    , col(\"tmp\").getItem(22).alias(\"categ_9\")\n",
    "                    , col(\"tmp\").getItem(23).alias(\"categ_10\")\n",
    "                    , col(\"tmp\").getItem(24).alias(\"categ_11\")\n",
    "                    , col(\"tmp\").getItem(25).alias(\"categ_12\")\n",
    "                    , col(\"tmp\").getItem(26).alias(\"categ_13\")\n",
    "                    , col(\"tmp\").getItem(27).alias(\"categ_14\")\n",
    "                    , col(\"tmp\").getItem(28).alias(\"categ_15\")\n",
    "                    , col(\"tmp\").getItem(29).alias(\"categ_16\")\n",
    "                    , col(\"tmp\").getItem(30).alias(\"categ_17\")\n",
    "                    , col(\"tmp\").getItem(31).alias(\"categ_18\")\n",
    "                    , col(\"tmp\").getItem(32).alias(\"categ_19\")\n",
    "                    , col(\"tmp\").getItem(33).alias(\"categ_20\")\n",
    "                    , col(\"tmp\").getItem(34).alias(\"categ_21\")\n",
    "                    , col(\"tmp\").getItem(35).alias(\"categ_22\")\n",
    "                    , col(\"tmp\").getItem(36).alias(\"categ_23\")\n",
    "                    , col(\"tmp\").getItem(37).alias(\"categ_24\")\n",
    "                    , col(\"tmp\").getItem(38).alias(\"categ_25\")\n",
    "                    , col(\"tmp\").getItem(39).alias(\"categ_26\")\n",
    "                    ).cache()"
   ]
  },
  {
   "cell_type": "code",
   "execution_count": 34,
   "metadata": {
    "collapsed": true
   },
   "outputs": [],
   "source": [
    "def one_hot_encoding(raw_feats, ohe_dict_broadcast, num_ohe_feats):\n",
    "    \"\"\"Produce a one-hot-encoding from a list of features and an OHE dictionary.\n",
    "\n",
    "    Note:\n",
    "        You should ensure that the indices used to create a SparseVector are sorted, and that the\n",
    "        function handles missing features.\n",
    "\n",
    "    Args:\n",
    "        raw_feats (list of (int, str)): The features corresponding to a single observation.  Each\n",
    "            feature consists of a tuple of featureID and the feature's value. (e.g. sample_one)\n",
    "        ohe_dict_broadcast (Broadcast of dict): Broadcast variable containing a dict that maps\n",
    "            (featureID, value) to unique integer.\n",
    "        num_ohe_feats (int): The total number of unique OHE features (combinations of featureID and\n",
    "            value).\n",
    "\n",
    "    Returns:\n",
    "        SparseVector: A SparseVector of length num_ohe_feats with indices equal to the unique\n",
    "            identifiers for the (featureID, value) combinations that occur in the observation and\n",
    "            with values equal to 1.0.\n",
    "    \"\"\"\n",
    "    #indices = sorted([ohe_dict_broadcast.value[feat] for feat in raw_feats if feat in ohe_dict_broadcast.value])\n",
    "    indices = sorted([ohe_dict_broadcast.value[feat] for feat in raw_feats])\n",
    "    values = np.ones(len(raw_feats))\n",
    "    return SparseVector(num_ohe_feats,indices,values)\n"
   ]
  },
  {
   "cell_type": "code",
   "execution_count": 35,
   "metadata": {
    "collapsed": true
   },
   "outputs": [],
   "source": [
    "def ohe_udf_generator(ohe_dict_broadcast):\n",
    "    \"\"\"Generate a UDF that is setup to one-hot-encode rows with the given dictionary.\n",
    "\n",
    "    Note:\n",
    "        We'll reuse this function to generate a UDF that can one-hot-encode rows based on a\n",
    "        one-hot-encoding dictionary built from the training data.  Also, you should calculate\n",
    "        the number of features before calling the one_hot_encoding function.\n",
    "\n",
    "    Args:\n",
    "        ohe_dict_broadcast (Broadcast of dict): Broadcast variable containing a dict that maps\n",
    "            (featureID, value) to unique integer.\n",
    "\n",
    "    Returns:\n",
    "        UserDefinedFunction: A UDF can be used in `DataFrame` `select` statement to call a\n",
    "            function on each row in a given column.  This UDF should call the one_hot_encoding\n",
    "            function with the appropriate parameters.\n",
    "    \"\"\"\n",
    "    length = len(ohe_dict_broadcast.value)\n",
    "    return udf(lambda x: one_hot_encoding(x, ohe_dict_broadcast, length), VectorUDT())\n",
    "\n"
   ]
  },
  {
   "cell_type": "code",
   "execution_count": 36,
   "metadata": {
    "collapsed": true
   },
   "outputs": [],
   "source": [
    "def create_one_hot_dict(input_df):\n",
    "    \"\"\"Creates a one-hot-encoder dictionary based on the input data.\n",
    "\n",
    "    Args:\n",
    "        input_df (DataFrame with 'features' column): A DataFrame where each row contains a list of\n",
    "            (featureID, value) tuples.\n",
    "\n",
    "    Returns:\n",
    "        dict: A dictionary where the keys are (featureID, value) tuples and map to values that are\n",
    "            unique integers.\n",
    "    \"\"\"\n",
    "    input_distinct_feats_df = input_df.select(explode(input_df.features)).distinct()\n",
    "    input_ohe_dict = (input_distinct_feats_df\n",
    "                     .rdd\n",
    "                     .map(lambda r: tuple(r[0]))\n",
    "                     .zipWithIndex().collectAsMap())\n",
    "    return input_ohe_dict\n",
    "\n"
   ]
  },
  {
   "cell_type": "code",
   "execution_count": 125,
   "metadata": {},
   "outputs": [],
   "source": [
    "def parse_point(point):\n",
    "    \"\"\" Converts a comma separated string into a list of (featureID, value) tuples.\n",
    "\n",
    "    Note:\n",
    "        featureIDs should start at 0 and increase to the number of features - 1.\n",
    "\n",
    "    Arguments:\n",
    "        point (str): A comma separated string where the first value is the label and the rest\n",
    "            are features.\n",
    "\n",
    "    Returns:\n",
    "        list: A list of (featureID, value) tuples.\n",
    "    \"\"\"\n",
    "    values = point.split('\\t')[1:]\n",
    "    indices = range(len(values))\n",
    "    return zip(indices,values)\n"
   ]
  },
  {
   "cell_type": "code",
   "execution_count": 126,
   "metadata": {},
   "outputs": [],
   "source": [
    "parse_point_udf = udf(parse_point, ArrayType(StructType([StructField('_1', LongType()),StructField('_2', StringType())])))\n",
    "\n",
    "def parse_raw_df(raw_df):\n",
    "    \"\"\" Will transform a DataFrame with comma separated text into labels and feature.\n",
    "\n",
    "    Arguments:\n",
    "        raw_df (DataFrame with a 'text' column): DataFrame containing the raw comma separated data.\n",
    "\n",
    "    Returns:\n",
    "        DataFrame: A DataFrame with 'label' and 'feature' columns.   \n",
    "    \"\"\"\n",
    "    return (raw_df.select(split(raw_df.text,'\\t').getItem(0).cast(\"double\").alias('label'),\n",
    "                         parse_point_udf(raw_df.text).alias('features'))\n",
    "                        .cache())\n"
   ]
  },
  {
   "cell_type": "code",
   "execution_count": 37,
   "metadata": {
    "collapsed": true
   },
   "outputs": [],
   "source": [
    "parsed_train_df = parse_raw_df(rawTrainNewDF)\n",
    "parsed_validation_df = parse_raw_df(rawValidationDF)\n",
    "parsed_test_df = parse_raw_df(rawTestDF)\n"
   ]
  },
  {
   "cell_type": "code",
   "execution_count": 38,
   "metadata": {},
   "outputs": [
    {
     "data": {
      "text/plain": [
       "DataFrame[label: double, features: array<struct<_1:bigint,_2:string>>]"
      ]
     },
     "execution_count": 38,
     "metadata": {},
     "output_type": "execute_result"
    }
   ],
   "source": [
    "parsed_train_df.cache()\n",
    "parsed_validation_df.cache()\n",
    "parsed_test_df.cache()\n"
   ]
  },
  {
   "cell_type": "code",
   "execution_count": 39,
   "metadata": {},
   "outputs": [
    {
     "data": {
      "text/plain": [
       "9167896"
      ]
     },
     "execution_count": 39,
     "metadata": {},
     "output_type": "execute_result"
    }
   ],
   "source": [
    "parsed_train_df.count()"
   ]
  },
  {
   "cell_type": "code",
   "execution_count": 40,
   "metadata": {},
   "outputs": [
    {
     "data": {
      "text/plain": [
       "Row(label=0.0, features=[Row(_1=0, _2=''), Row(_1=1, _2='-1'), Row(_1=2, _2=''), Row(_1=3, _2=''), Row(_1=4, _2=''), Row(_1=5, _2=''), Row(_1=6, _2=''), Row(_1=7, _2=''), Row(_1=8, _2=''), Row(_1=9, _2=''), Row(_1=10, _2=''), Row(_1=11, _2=''), Row(_1=12, _2=''), Row(_1=13, _2='05db9164'), Row(_1=14, _2='38a947a1'), Row(_1=15, _2=''), Row(_1=16, _2=''), Row(_1=17, _2='25c83c98'), Row(_1=18, _2=''), Row(_1=19, _2='1d7560d9'), Row(_1=20, _2='64523cfa'), Row(_1=21, _2='7cc72ec2'), Row(_1=22, _2='3b08e48b'), Row(_1=23, _2='8951ed6a'), Row(_1=24, _2=''), Row(_1=25, _2='27dc8af3'), Row(_1=26, _2='b28479f6'), Row(_1=27, _2='4df46b2c'), Row(_1=28, _2=''), Row(_1=29, _2='2005abd1'), Row(_1=30, _2='40685634'), Row(_1=31, _2=''), Row(_1=32, _2=''), Row(_1=33, _2=''), Row(_1=34, _2=''), Row(_1=35, _2='32c7478e'), Row(_1=36, _2=''), Row(_1=37, _2=''), Row(_1=38, _2='')])"
      ]
     },
     "execution_count": 40,
     "metadata": {},
     "output_type": "execute_result"
    }
   ],
   "source": [
    "parsed_train_df.head()"
   ]
  },
  {
   "cell_type": "code",
   "execution_count": 41,
   "metadata": {
    "collapsed": true
   },
   "outputs": [],
   "source": [
    "num_categories = (parsed_train_df\n",
    "                    .select(explode('features').alias('features'))\n",
    "                    .distinct()\n",
    "                    .select(col('features').getField('_1').alias('featureNumber'))\n",
    "                    .groupBy('featureNumber')\n",
    "                    .sum()\n",
    "                    .orderBy('featureNumber')\n",
    "                    .collect())\n"
   ]
  },
  {
   "cell_type": "code",
   "execution_count": 42,
   "metadata": {},
   "outputs": [
    {
     "data": {
      "text/plain": [
       "[Row(featureNumber=0, sum(featureNumber)=0),\n",
       " Row(featureNumber=1, sum(featureNumber)=6850),\n",
       " Row(featureNumber=2, sum(featureNumber)=11562),\n",
       " Row(featureNumber=3, sum(featureNumber)=876),\n",
       " Row(featureNumber=4, sum(featureNumber)=1024108),\n",
       " Row(featureNumber=5, sum(featureNumber)=36790),\n",
       " Row(featureNumber=6, sum(featureNumber)=16362),\n",
       " Row(featureNumber=7, sum(featureNumber)=5229),\n",
       " Row(featureNumber=8, sum(featureNumber)=41136),\n",
       " Row(featureNumber=9, sum(featureNumber)=99),\n",
       " Row(featureNumber=10, sum(featureNumber)=1470),\n",
       " Row(featureNumber=11, sum(featureNumber)=2915),\n",
       " Row(featureNumber=12, sum(featureNumber)=8088),\n",
       " Row(featureNumber=13, sum(featureNumber)=18954),\n",
       " Row(featureNumber=14, sum(featureNumber)=7868),\n",
       " Row(featureNumber=15, sum(featureNumber)=38094315),\n",
       " Row(featureNumber=16, sum(featureNumber)=11218608),\n",
       " Row(featureNumber=17, sum(featureNumber)=5185),\n",
       " Row(featureNumber=18, sum(featureNumber)=414),\n",
       " Row(featureNumber=19, sum(featureNumber)=232522),\n",
       " Row(featureNumber=20, sum(featureNumber)=12660),\n",
       " Row(featureNumber=21, sum(featureNumber)=63),\n",
       " Row(featureNumber=22, sum(featureNumber)=1409958),\n",
       " Row(featureNumber=23, sum(featureNumber)=124131),\n",
       " Row(featureNumber=24, sum(featureNumber)=52219896),\n",
       " Row(featureNumber=25, sum(featureNumber)=79600),\n",
       " Row(featureNumber=26, sum(featureNumber)=702),\n",
       " Row(featureNumber=27, sum(featureNumber)=350271),\n",
       " Row(featureNumber=28, sum(featureNumber)=42570808),\n",
       " Row(featureNumber=29, sum(featureNumber)=290),\n",
       " Row(featureNumber=30, sum(featureNumber)=151830),\n",
       " Row(featureNumber=31, sum(featureNumber)=65317),\n",
       " Row(featureNumber=32, sum(featureNumber)=128),\n",
       " Row(featureNumber=33, sum(featureNumber)=62487876),\n",
       " Row(featureNumber=34, sum(featureNumber)=612),\n",
       " Row(featureNumber=35, sum(featureNumber)=525),\n",
       " Row(featureNumber=36, sum(featureNumber)=4895424),\n",
       " Row(featureNumber=37, sum(featureNumber)=3552),\n",
       " Row(featureNumber=38, sum(featureNumber)=3163006)]"
      ]
     },
     "execution_count": 42,
     "metadata": {},
     "output_type": "execute_result"
    }
   ],
   "source": [
    "num_categories"
   ]
  },
  {
   "cell_type": "markdown",
   "metadata": {},
   "source": [
    "### Create an OHE dictionary from the dataset\n"
   ]
  },
  {
   "cell_type": "code",
   "execution_count": 43,
   "metadata": {},
   "outputs": [
    {
     "name": "stdout",
     "output_type": "stream",
     "text": [
      "9444472\n",
      "8499753\n"
     ]
    }
   ],
   "source": [
    "ctr_ohe_dict = create_one_hot_dict(parsed_train_df)\n",
    "num_ctr_ohe_feats = len(ctr_ohe_dict)\n",
    "print(num_ctr_ohe_feats)\n",
    "print(ctr_ohe_dict[(0, '')])\n"
   ]
  },
  {
   "cell_type": "markdown",
   "metadata": {},
   "source": [
    "### Apply OHE to the dataset\n"
   ]
  },
  {
   "cell_type": "code",
   "execution_count": 53,
   "metadata": {
    "collapsed": true
   },
   "outputs": [],
   "source": [
    "ohe_dict_broadcast = sc.broadcast(ctr_ohe_dict)\n",
    "ohe_dict_udf =  ohe_udf_generator(ohe_dict_broadcast)\n"
   ]
  },
  {
   "cell_type": "code",
   "execution_count": 54,
   "metadata": {},
   "outputs": [
    {
     "data": {
      "text/plain": [
       "DataFrame[label: double, features: vector]"
      ]
     },
     "execution_count": 54,
     "metadata": {},
     "output_type": "execute_result"
    }
   ],
   "source": [
    "ohe_train_df =  parsed_train_df.select(parsed_train_df.label, ohe_dict_udf(parsed_train_df.features).alias('features'))\n",
    "ohe_train_df.cache()\n"
   ]
  },
  {
   "cell_type": "markdown",
   "metadata": {},
   "source": [
    "### (3f) Handling unseen features\n"
   ]
  },
  {
   "cell_type": "code",
   "execution_count": 55,
   "metadata": {
    "collapsed": true
   },
   "outputs": [],
   "source": [
    "def one_hot_encoding_v2(raw_feats, ohe_dict_broadcast, num_ohe_feats):\n",
    "    \"\"\"Produce a one-hot-encoding from a list of features and an OHE dictionary.\n",
    "    The indices used to create a SparseVector are sorted. We consider previously seen features only.\n",
    "\n",
    "    Args:\n",
    "        raw_feats (list of (int, str)): The features corresponding to a single observation.  Each\n",
    "            feature consists of a tuple of featureID and the feature's value. (e.g. sample_one)\n",
    "        ohe_dict_broadcast (Broadcast of dict): Broadcast variable containing a dict that maps\n",
    "            (featureID, value) to unique integer.\n",
    "        num_ohe_feats (int): The total number of unique OHE features (combinations of featureID and\n",
    "            value).\n",
    "\n",
    "    Returns:\n",
    "        SparseVector: A SparseVector of length num_ohe_feats with indices equal to the unique\n",
    "            identifiers for the (featureID, value) combinations that occur in the observation and\n",
    "            with values equal to 1.0.\n",
    "    \"\"\"\n",
    "    indices = sorted([ohe_dict_broadcast.value[feat] for feat in raw_feats if feat in ohe_dict_broadcast.value])\n",
    "    values = np.ones(len([feat for feat in raw_feats if feat in ohe_dict_broadcast.value] ))\n",
    "    return SparseVector(num_ohe_feats,indices,values)\n",
    "\n",
    "def ohe_udf_generator_v2(ohe_dict_broadcast):\n",
    "    \"\"\"Generate a UDF that is setup to one-hot-encode rows with the given dictionary.\n",
    "\n",
    "    Args:\n",
    "        ohe_dict_broadcast (Broadcast of dict): Broadcast variable containing a dict that maps\n",
    "            (featureID, value) to unique integer.\n",
    "\n",
    "    Returns:\n",
    "        UserDefinedFunction: A UDF can be used in `DataFrame` `select` statement to call a\n",
    "            function on each row in a given column.  This UDF should call the one_hot_encoding\n",
    "            function with the appropriate parameters.\n",
    "    \"\"\"\n",
    "    length = len(ohe_dict_broadcast.value)\n",
    "    return udf(lambda x: one_hot_encoding_v2(x, ohe_dict_broadcast, length), VectorUDT())\n"
   ]
  },
  {
   "cell_type": "code",
   "execution_count": 56,
   "metadata": {
    "collapsed": true
   },
   "outputs": [],
   "source": [
    "ohe_dict_missing_udf = ohe_udf_generator_v2(ohe_dict_broadcast)\n",
    "\n",
    "ohe_test_df = parsed_test_df.select(parsed_test_df.label,  ohe_dict_missing_udf(parsed_test_df.features).alias('features')).cache()\n",
    "\n"
   ]
  },
  {
   "cell_type": "code",
   "execution_count": 57,
   "metadata": {},
   "outputs": [
    {
     "name": "stdout",
     "output_type": "stream",
     "text": [
      "4585725\n",
      "+-----+---------------------------------------------------------------------------------------------------------------------------------------------------------------------------------------------------------------------------------------------------------------------------------------------------------------------------------------------------------------------------------------------------------------------------------------------------------------------------------------------+\n",
      "|label|features                                                                                                                                                                                                                                                                                                                                                                                                                                                                                     |\n",
      "+-----+---------------------------------------------------------------------------------------------------------------------------------------------------------------------------------------------------------------------------------------------------------------------------------------------------------------------------------------------------------------------------------------------------------------------------------------------------------------------------------------------+\n",
      "|0.0  |(9444472,[282595,424288,659969,706928,1320318,1557022,1557024,1604080,2264580,2406696,2500884,2736370,3113587,3255788,4010909,4058045,4153235,4200705,4578630,4814588,4909212,5146054,5524541,5808565,5855851,6091432,6233661,6611261,6705776,7602305,7884943,8074256,8358485,8405758,8452489,8499753,9161299,9350284,9350285],[1.0,1.0,1.0,1.0,1.0,1.0,1.0,1.0,1.0,1.0,1.0,1.0,1.0,1.0,1.0,1.0,1.0,1.0,1.0,1.0,1.0,1.0,1.0,1.0,1.0,1.0,1.0,1.0,1.0,1.0,1.0,1.0,1.0,1.0,1.0,1.0,1.0,1.0,1.0])|\n",
      "+-----+---------------------------------------------------------------------------------------------------------------------------------------------------------------------------------------------------------------------------------------------------------------------------------------------------------------------------------------------------------------------------------------------------------------------------------------------------------------------------------------------+\n",
      "only showing top 1 row\n",
      "\n",
      "None\n"
     ]
    }
   ],
   "source": [
    "print(ohe_test_df.count())\n",
    "print(ohe_test_df.show(1, truncate=False))\n"
   ]
  },
  {
   "cell_type": "code",
   "execution_count": 58,
   "metadata": {},
   "outputs": [
    {
     "data": {
      "text/plain": [
       "Row(label=0.0, features=SparseVector(9444472, {282595: 1.0, 424288: 1.0, 659969: 1.0, 706928: 1.0, 989935: 1.0, 1320318: 1.0, 1557022: 1.0, 1557023: 1.0, 1557024: 1.0, 2123496: 1.0, 2264580: 1.0, 2406696: 1.0, 2736370: 1.0, 3113587: 1.0, 3255788: 1.0, 4010909: 1.0, 4153235: 1.0, 4200705: 1.0, 4200706: 1.0, 4296513: 1.0, 4814588: 1.0, 4909212: 1.0, 5146054: 1.0, 5524541: 1.0, 5808565: 1.0, 5903003: 1.0, 6233661: 1.0, 6611261: 1.0, 6705776: 1.0, 6895237: 1.0, 7602305: 1.0, 8074256: 1.0, 8358485: 1.0, 8405758: 1.0, 8452489: 1.0, 8499753: 1.0, 9161299: 1.0, 9350284: 1.0, 9350285: 1.0}))"
      ]
     },
     "execution_count": 58,
     "metadata": {},
     "output_type": "execute_result"
    }
   ],
   "source": [
    "ohe_train_df.first()"
   ]
  },
  {
   "cell_type": "code",
   "execution_count": 59,
   "metadata": {},
   "outputs": [
    {
     "data": {
      "text/plain": [
       "Row(label=0.0, features=SparseVector(9444472, {282595: 1.0, 424288: 1.0, 659969: 1.0, 706928: 1.0, 1320318: 1.0, 1557022: 1.0, 1557024: 1.0, 1604080: 1.0, 2264580: 1.0, 2406696: 1.0, 2500884: 1.0, 2736370: 1.0, 3113587: 1.0, 3255788: 1.0, 4010909: 1.0, 4058045: 1.0, 4153235: 1.0, 4200705: 1.0, 4578630: 1.0, 4814588: 1.0, 4909212: 1.0, 5146054: 1.0, 5524541: 1.0, 5808565: 1.0, 5855851: 1.0, 6091432: 1.0, 6233661: 1.0, 6611261: 1.0, 6705776: 1.0, 7602305: 1.0, 7884943: 1.0, 8074256: 1.0, 8358485: 1.0, 8405758: 1.0, 8452489: 1.0, 8499753: 1.0, 9161299: 1.0, 9350284: 1.0, 9350285: 1.0}))"
      ]
     },
     "execution_count": 59,
     "metadata": {},
     "output_type": "execute_result"
    }
   ],
   "source": [
    "ohe_test_df.first()"
   ]
  },
  {
   "cell_type": "markdown",
   "metadata": {},
   "source": [
    "## Part 4: CTR prediction and logloss evaluation\n"
   ]
  },
  {
   "cell_type": "markdown",
   "metadata": {},
   "source": [
    "### (4a) Logistic regression\n"
   ]
  },
  {
   "cell_type": "code",
   "execution_count": 61,
   "metadata": {
    "scrolled": true
   },
   "outputs": [
    {
     "name": "stdout",
     "output_type": "stream",
     "text": [
      "intercept: -1.0743401568315318\n",
      "length of coefficients: 9444472\n",
      "[-2.3933778261858674, -2.3640446886325717, -2.3606764183110305, -2.356334312584443, -2.345188385115328]\n"
     ]
    }
   ],
   "source": [
    "standardization = True\n",
    "elastic_net_param = 0.0\n",
    "reg_param = .01\n",
    "max_iter = 5\n",
    "\n",
    "lr = LogisticRegression(featuresCol=\"features\", labelCol=\"label\", predictionCol=\"prediction\", maxIter=max_iter, regParam=reg_param, elasticNetParam=elastic_net_param, fitIntercept=True,  standardization=standardization)\n",
    "\n",
    "lr_model_basic = lr.fit(ohe_train_df)\n",
    "\n",
    "print('intercept: {0}'.format(lr_model_basic.intercept))\n",
    "print('length of coefficients: {0}'.format(len(lr_model_basic.coefficients)))\n",
    "sorted_coefficients = sorted(lr_model_basic.coefficients)[:5]\n",
    "print(sorted_coefficients)\n"
   ]
  },
  {
   "cell_type": "markdown",
   "metadata": {},
   "source": [
    "### (4b) Log loss\n"
   ]
  },
  {
   "cell_type": "code",
   "execution_count": 62,
   "metadata": {
    "collapsed": true
   },
   "outputs": [],
   "source": [
    "from pyspark.sql.functions import when, log, col\n",
    "epsilon = 1e-16\n",
    "\n",
    "def add_log_loss(df):\n",
    "    \"\"\"Computes and adds a 'log_loss' column to a DataFrame using 'p' and 'label' columns.\n",
    "\n",
    "    Note:\n",
    "        log(0) is undefined, so when p is 0 we add a small value (epsilon) to it and when\n",
    "        p is 1 we subtract a small value (epsilon) from it.\n",
    "\n",
    "    Args:\n",
    "        df (DataFrame with 'p' and 'label' columns): A DataFrame with a probability column\n",
    "            'p' and a 'label' column that corresponds to y in the log loss formula.\n",
    "\n",
    "    Returns:\n",
    "        DataFrame: A new DataFrame with an additional column called 'log_loss' where 'log_loss' column contains the loss value as explained above.\n",
    "        \n",
    "        if y == 1:\n",
    "          return -log(epsilon + p) if p == 0 else -log(p)\n",
    "        elif y == 0:\n",
    "          return -log(1 - p + epsilon) if p == 1 else -log(1 - p)         \n",
    "    \"\"\"\n",
    "    \n",
    "    return (df.select(df['p'],df['label'],\n",
    "                when(df['label']==1.0,\n",
    "                     (when(df['p']!=0,-log(df['p'])))\n",
    "                     .otherwise(-log(epsilon + df['p'])))\n",
    "               .when(df['label']==0.0,\n",
    "                     (when(df['p']!=1.0,-log(1.0-df['p'])))\n",
    "                     .otherwise(-log(1.0 - df['p'] + epsilon)))\n",
    "               .alias(\"log_loss\")))\n",
    "\n"
   ]
  },
  {
   "cell_type": "markdown",
   "metadata": {},
   "source": [
    "## (4c) Baseline log loss\n"
   ]
  },
  {
   "cell_type": "code",
   "execution_count": 63,
   "metadata": {},
   "outputs": [
    {
     "name": "stdout",
     "output_type": "stream",
     "text": [
      "Training class one fraction = 0.256\n",
      "Baseline Train Logloss = 0.569\n",
      "\n"
     ]
    }
   ],
   "source": [
    "from pyspark.sql.functions import lit\n",
    "class_one_frac_train = ohe_train_df.select(F.sum('label')).collect()[0][0] / ohe_train_df.count()\n",
    "\n",
    "ohe_train_df = (ohe_train_df.withColumn(\"p\", lit(class_one_frac_train)))\n",
    "print('Training class one fraction = {0:.3f}'.format(class_one_frac_train))\n",
    "\n",
    "log_loss_tr_base = (add_log_loss(ohe_train_df).select(F.sum('log_loss')).collect()[0][0] / ohe_train_df.count())\n",
    "print('Baseline Train Logloss = {0:.3f}\\n'.format(log_loss_tr_base))\n"
   ]
  },
  {
   "cell_type": "markdown",
   "metadata": {},
   "source": [
    "### Predicting probability"
   ]
  },
  {
   "cell_type": "code",
   "execution_count": 64,
   "metadata": {
    "collapsed": true
   },
   "outputs": [],
   "source": [
    "from pyspark.sql.types import DoubleType\n",
    "from math import exp #  exp(-t) = e^-t\n",
    "\n",
    "def add_probability(df, model):\n",
    "    \"\"\"Adds a probability column ('p') to a DataFrame given a model\n",
    "    Args:\n",
    "        df for which probability has to be calculated.\n",
    "        model with which probability has to be calculated\n",
    "\n",
    "    Returns:\n",
    "        DataFrame: A new DataFrame with an additional column called p where p column contains the probability for an observation given a list of features.\n",
    "    \n",
    "    \"\"\"\n",
    "    coefficients_broadcast = sc.broadcast(model.coefficients)\n",
    "    intercept = model.intercept\n",
    "\n",
    "    def get_p(features):\n",
    "        \"\"\"Calculate the probability for an observation given a list of features.\n",
    "\n",
    "        Note:\n",
    "            We'll bound our raw prediction between 20 and -20 for numerical purposes.\n",
    "\n",
    "        Args:\n",
    "            features: the features\n",
    "\n",
    "        Returns:\n",
    "            float: A probability between 0 and 1.\n",
    "        \"\"\"\n",
    "        # Compute the raw value\n",
    "        raw_prediction = features.dot(coefficients_broadcast.value)+intercept\n",
    "        # Bound the raw value between 20 and -20\n",
    "        raw_prediction = min(raw_prediction, 20)\n",
    "        raw_prediction = max(raw_prediction, -20)\n",
    "        return 1.0 / (1.0 + exp(-raw_prediction))\n",
    "\n",
    "    get_p_udf = udf(get_p, DoubleType())\n",
    "    return df.withColumn('p', get_p_udf('features'))\n",
    "\n"
   ]
  },
  {
   "cell_type": "code",
   "execution_count": 65,
   "metadata": {
    "scrolled": true
   },
   "outputs": [
    {
     "name": "stdout",
     "output_type": "stream",
     "text": [
      "+-----+---------------------------------------------------------------------------------------------------------------------------------------------------------------------------------------------------------------------------------------------------------------------------------------------------------------------------------------------------------------------------------------------------------------------------------------------------------------------------------------------+--------------------+\n",
      "|label|features                                                                                                                                                                                                                                                                                                                                                                                                                                                                                     |p                   |\n",
      "+-----+---------------------------------------------------------------------------------------------------------------------------------------------------------------------------------------------------------------------------------------------------------------------------------------------------------------------------------------------------------------------------------------------------------------------------------------------------------------------------------------------+--------------------+\n",
      "|0.0  |(9444472,[282595,424288,659969,706928,989935,1320318,1557022,1557023,1557024,2123496,2264580,2406696,2736370,3113587,3255788,4010909,4153235,4200705,4200706,4296513,4814588,4909212,5146054,5524541,5808565,5903003,6233661,6611261,6705776,6895237,7602305,8074256,8358485,8405758,8452489,8499753,9161299,9350284,9350285],[1.0,1.0,1.0,1.0,1.0,1.0,1.0,1.0,1.0,1.0,1.0,1.0,1.0,1.0,1.0,1.0,1.0,1.0,1.0,1.0,1.0,1.0,1.0,1.0,1.0,1.0,1.0,1.0,1.0,1.0,1.0,1.0,1.0,1.0,1.0,1.0,1.0,1.0,1.0]) |0.03797345839906773 |\n",
      "|0.0  |(9444472,[282595,424288,659969,706928,1232762,1320318,1557022,2264580,2406696,2736370,3113587,3255788,3538394,4010909,4153235,4200705,4200706,4437058,4578630,4767540,4814588,4909212,5146054,5288211,5524541,5808565,6233661,6611261,6705776,7225116,7602305,8074256,8358485,8405758,8452489,8499753,9161299,9350284,9350285],[1.0,1.0,1.0,1.0,1.0,1.0,1.0,1.0,1.0,1.0,1.0,1.0,1.0,1.0,1.0,1.0,1.0,1.0,1.0,1.0,1.0,1.0,1.0,1.0,1.0,1.0,1.0,1.0,1.0,1.0,1.0,1.0,1.0,1.0,1.0,1.0,1.0,1.0,1.0])|0.04075749313455165 |\n",
      "|0.0  |(9444472,[282595,424288,706928,894905,1320318,1557022,1557024,1604080,2264580,2264581,2406696,2500884,2547651,2736370,3113587,3160920,3255788,3538395,3821451,4010909,4153235,4200705,4814588,4909212,5146054,5524541,5808565,6091432,6233661,6611261,6705776,7602305,8074256,8358485,8405758,8452489,8499753,9350284,9350285],[1.0,1.0,1.0,1.0,1.0,1.0,1.0,1.0,1.0,1.0,1.0,1.0,1.0,1.0,1.0,1.0,1.0,1.0,1.0,1.0,1.0,1.0,1.0,1.0,1.0,1.0,1.0,1.0,1.0,1.0,1.0,1.0,1.0,1.0,1.0,1.0,1.0,1.0,1.0])|0.0602396726700737  |\n",
      "|0.0  |(9444472,[235571,282595,424288,612985,659969,706928,1133915,1320318,1557022,1557024,1651141,2264580,2406696,2547651,2736370,3113587,3255788,3585421,4010909,4153235,4200705,4814588,4909212,5146054,5524541,5808565,5808566,6233661,6233662,6611261,6705776,7602305,8074256,8358485,8405758,8452489,8499753,9350284,9350285],[1.0,1.0,1.0,1.0,1.0,1.0,1.0,1.0,1.0,1.0,1.0,1.0,1.0,1.0,1.0,1.0,1.0,1.0,1.0,1.0,1.0,1.0,1.0,1.0,1.0,1.0,1.0,1.0,1.0,1.0,1.0,1.0,1.0,1.0,1.0,1.0,1.0,1.0,1.0])  |0.058502976931045676|\n",
      "|0.0  |(9444472,[282595,424288,471465,706928,1131695,1320318,1557022,1651142,2264580,2406696,2594745,2736370,3113587,3255788,3585421,4010909,4153235,4200705,4767541,4814588,4909212,5146054,5524541,5808565,5808567,6233661,6280595,6611261,6705776,7602305,8074256,8358485,8405758,8452489,8499753,8688750,9161300,9350284,9350285],[1.0,1.0,1.0,1.0,1.0,1.0,1.0,1.0,1.0,1.0,1.0,1.0,1.0,1.0,1.0,1.0,1.0,1.0,1.0,1.0,1.0,1.0,1.0,1.0,1.0,1.0,1.0,1.0,1.0,1.0,1.0,1.0,1.0,1.0,1.0,1.0,1.0,1.0,1.0])|0.09565946274868178 |\n",
      "+-----+---------------------------------------------------------------------------------------------------------------------------------------------------------------------------------------------------------------------------------------------------------------------------------------------------------------------------------------------------------------------------------------------------------------------------------------------------------------------------------------------+--------------------+\n",
      "only showing top 5 rows\n",
      "\n"
     ]
    }
   ],
   "source": [
    "add_probability_model_basic = lambda df: add_probability(df, lr_model_basic)\n",
    "training_predictions = add_probability_model_basic(ohe_train_df).cache()\n",
    "training_predictions.show(5, truncate=False)\n"
   ]
  },
  {
   "cell_type": "code",
   "execution_count": 66,
   "metadata": {},
   "outputs": [
    {
     "name": "stdout",
     "output_type": "stream",
     "text": [
      "+-----+--------------------+--------------------+\n",
      "|label|            features|                   p|\n",
      "+-----+--------------------+--------------------+\n",
      "|  0.0|(9444472,[282595,...| 0.03797345839906773|\n",
      "|  0.0|(9444472,[282595,...| 0.04075749313455165|\n",
      "|  0.0|(9444472,[282595,...|  0.0602396726700737|\n",
      "|  0.0|(9444472,[235571,...|0.058502976931045676|\n",
      "|  0.0|(9444472,[282595,...| 0.09565946274868178|\n",
      "+-----+--------------------+--------------------+\n",
      "only showing top 5 rows\n",
      "\n"
     ]
    }
   ],
   "source": [
    "training_predictions.show(5)\n"
   ]
  },
  {
   "cell_type": "markdown",
   "metadata": {},
   "source": [
    "### Evaluating the model\n"
   ]
  },
  {
   "cell_type": "code",
   "execution_count": 67,
   "metadata": {
    "collapsed": true
   },
   "outputs": [],
   "source": [
    "def evaluate_results(df, model, baseline=None):\n",
    "    \"\"\"Calculates the log loss for the data given the model.\n",
    "\n",
    "    Note:\n",
    "        If baseline has a value the probability should be set to baseline before\n",
    "        the log loss is calculated.  Otherwise, use add_probability to add the\n",
    "        appropriate probabilities to the DataFrame.\n",
    "\n",
    "    Args:\n",
    "        df (DataFrame with 'label' and 'features' columns): A DataFrame containing\n",
    "            labels and features.\n",
    "        model (LogisticRegressionModel): A trained logistic regression model. This\n",
    "            can be None if baseline is set.\n",
    "        baseline (float): A baseline probability to use for the log loss calculation.\n",
    "\n",
    "    Returns:\n",
    "        float: Log loss for the data.\n",
    "    \"\"\"\n",
    "    with_probability_df = add_probability(df, model)\n",
    "    with_log_loss_df = add_log_loss(with_probability_df)\n",
    "    log_loss = (with_log_loss_df.select(F.sum('log_loss')).collect()[0][0] / with_log_loss_df.count())\n",
    "    return log_loss\n"
   ]
  },
  {
   "cell_type": "code",
   "execution_count": 68,
   "metadata": {},
   "outputs": [
    {
     "name": "stdout",
     "output_type": "stream",
     "text": [
      "OHE Features Train Logloss:\n",
      "\tBaseline = 0.569\n",
      "\tLogReg = 0.335\n"
     ]
    }
   ],
   "source": [
    "log_loss_train_model_basic = evaluate_results(ohe_train_df, lr_model_basic)\n",
    "print ('OHE Features Train Logloss:\\n\\tBaseline = {0:.3f}\\n\\tLogReg = {1:.3f}'\n",
    "       .format(log_loss_tr_base, log_loss_train_model_basic))\n"
   ]
  },
  {
   "cell_type": "markdown",
   "metadata": {},
   "source": [
    "### (4f) Test dataset log loss\n"
   ]
  },
  {
   "cell_type": "code",
   "execution_count": 69,
   "metadata": {
    "collapsed": true
   },
   "outputs": [],
   "source": [
    "log_loss_val = evaluate_results(ohe_test_df, lr_model_basic)\n"
   ]
  },
  {
   "cell_type": "code",
   "execution_count": 70,
   "metadata": {},
   "outputs": [
    {
     "data": {
      "text/plain": [
       "0.4948208635641279"
      ]
     },
     "execution_count": 70,
     "metadata": {},
     "output_type": "execute_result"
    }
   ],
   "source": [
    "log_loss_val"
   ]
  },
  {
   "cell_type": "code",
   "execution_count": 71,
   "metadata": {},
   "outputs": [
    {
     "name": "stdout",
     "output_type": "stream",
     "text": [
      "+-----+--------------------+-------------------+\n",
      "|label|            features|                  p|\n",
      "+-----+--------------------+-------------------+\n",
      "|  0.0|(9444472,[282595,...| 0.0758689589710484|\n",
      "|  0.0|(9444472,[235572,...| 0.0400414644520275|\n",
      "|  0.0|(9444472,[47175,1...|0.10946047756433618|\n",
      "|  0.0|(9444472,[95297,4...|0.03827244701048019|\n",
      "|  0.0|(9444472,[424288,...|0.13123500785370285|\n",
      "+-----+--------------------+-------------------+\n",
      "only showing top 5 rows\n",
      "\n"
     ]
    }
   ],
   "source": [
    "test_predictions = add_probability_model_basic(ohe_test_df).cache()\n",
    "test_predictions.show(5)\n"
   ]
  },
  {
   "cell_type": "code",
   "execution_count": 72,
   "metadata": {},
   "outputs": [
    {
     "name": "stdout",
     "output_type": "stream",
     "text": [
      "+-----------+------+\n",
      "|Probability| count|\n",
      "+-----------+------+\n",
      "|       0.66| 14531|\n",
      "|       0.07|149394|\n",
      "|       0.84|  6620|\n",
      "|       0.87|  5837|\n",
      "|        0.0|  4639|\n",
      "|       0.16|110505|\n",
      "|       0.93|  5016|\n",
      "|       0.89|  5339|\n",
      "|       0.18|100581|\n",
      "|        0.2| 92191|\n",
      "|       0.05|149975|\n",
      "|       0.39| 39944|\n",
      "|       0.79|  8147|\n",
      "|       0.72| 11352|\n",
      "|        0.7| 12170|\n",
      "|       0.24| 76046|\n",
      "|       0.54| 22642|\n",
      "|       0.21| 87714|\n",
      "|        0.1|139554|\n",
      "|       0.45| 31639|\n",
      "+-----------+------+\n",
      "only showing top 20 rows\n",
      "\n"
     ]
    }
   ],
   "source": [
    "test_predictions.withColumn(\"Probability\",F.round(col(\"p\"),2) ).groupBy(\"Probability\").agg(F.count(lit(1)).alias(\"count\")).show()\n",
    "                             "
   ]
  },
  {
   "cell_type": "code",
   "execution_count": 1,
   "metadata": {
    "collapsed": true
   },
   "outputs": [],
   "source": [
    "#Reference :\n",
    "#RandomForest\n",
    "#https://github.com/apache/spark/blob/v2.2.0/mllib/src/main/scala/org/apache/spark/ml/classification/RandomForestClassifier.scala#L120\n",
    "#One hot encoding\n",
    "#https://towardsdatascience.com/machine-learning-with-pyspark-and-mllib-solving-a-binary-classification-problem-96396065d2aa\n",
    "#LR from scratch\n",
    "#https://medium.com/@martinpella/logistic-regression-from-scratch-in-python-124c5636b8ac\n",
    "#https://www.programcreek.com/python/example/106727/pyspark.ml.feature.StringIndexer\n",
    "\n",
    "#pyspark.mllib vs pyspark.ml\n",
    "#https://stackoverflow.com/questions/41074182/cannot-convert-type-class-pyspark-ml-linalg-sparsevector-into-vector"
   ]
  },
  {
   "cell_type": "code",
   "execution_count": null,
   "metadata": {
    "collapsed": true
   },
   "outputs": [],
   "source": []
  }
 ],
 "metadata": {
  "kernelspec": {
   "display_name": "PySpark",
   "language": "python",
   "name": "pyspark"
  },
  "language_info": {
   "codemirror_mode": {
    "name": "ipython",
    "version": 3
   },
   "file_extension": ".py",
   "mimetype": "text/x-python",
   "name": "python",
   "nbconvert_exporter": "python",
   "pygments_lexer": "ipython3",
   "version": "3.6.5"
  },
  "toc": {
   "base_numbering": 1,
   "nav_menu": {},
   "number_sections": true,
   "sideBar": true,
   "skip_h1_title": false,
   "title_cell": "Table of Contents",
   "title_sidebar": "Contents",
   "toc_cell": false,
   "toc_position": {},
   "toc_section_display": true,
   "toc_window_display": false
  },
  "varInspector": {
   "cols": {
    "lenName": 16,
    "lenType": 16,
    "lenVar": 40
   },
   "kernels_config": {
    "python": {
     "delete_cmd_postfix": "",
     "delete_cmd_prefix": "del ",
     "library": "var_list.py",
     "varRefreshCmd": "print(var_dic_list())"
    },
    "r": {
     "delete_cmd_postfix": ") ",
     "delete_cmd_prefix": "rm(",
     "library": "var_list.r",
     "varRefreshCmd": "cat(var_dic_list()) "
    }
   },
   "types_to_exclude": [
    "module",
    "function",
    "builtin_function_or_method",
    "instance",
    "_Feature"
   ],
   "window_display": false
  }
 },
 "nbformat": 4,
 "nbformat_minor": 2
}